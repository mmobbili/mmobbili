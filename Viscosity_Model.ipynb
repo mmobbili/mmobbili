{
  "nbformat": 4,
  "nbformat_minor": 0,
  "metadata": {
    "colab": {
      "name": "Viscosity Model.ipynb",
      "provenance": [],
      "toc_visible": true,
      "include_colab_link": true
    },
    "kernelspec": {
      "name": "python3",
      "display_name": "Python 3"
    },
    "language_info": {
      "name": "python"
    }
  },
  "cells": [
    {
      "cell_type": "markdown",
      "metadata": {
        "id": "view-in-github",
        "colab_type": "text"
      },
      "source": [
        "<a href=\"https://colab.research.google.com/github/mmobbili/mmobbili/blob/main/Viscosity_Model.ipynb\" target=\"_parent\"><img src=\"https://colab.research.google.com/assets/colab-badge.svg\" alt=\"Open In Colab\"/></a>"
      ]
    },
    {
      "cell_type": "markdown",
      "source": [
        "### Setup - Imports"
      ],
      "metadata": {
        "id": "cumbuFtuac4H"
      }
    },
    {
      "cell_type": "code",
      "execution_count": null,
      "metadata": {
        "colab": {
          "base_uri": "https://localhost:8080/"
        },
        "id": "vPFddOKLaON3",
        "outputId": "0ebf702a-f06b-4043-c811-09606245f376"
      },
      "outputs": [
        {
          "output_type": "stream",
          "name": "stdout",
          "text": [
            "Collecting pubchempy\n",
            "  Downloading PubChemPy-1.0.4.tar.gz (29 kB)\n",
            "Building wheels for collected packages: pubchempy\n",
            "  Building wheel for pubchempy (setup.py) ... \u001b[?25l\u001b[?25hdone\n",
            "  Created wheel for pubchempy: filename=PubChemPy-1.0.4-py3-none-any.whl size=13834 sha256=bd68199be013a9e816808ffa7ab04accbf49da3fa75b69fe2d91eb281210f790\n",
            "  Stored in directory: /root/.cache/pip/wheels/7c/3d/8c/8192697412e9899dc55bbbb08bbc1197bef333caaa2a71c448\n",
            "Successfully built pubchempy\n",
            "Installing collected packages: pubchempy\n",
            "Successfully installed pubchempy-1.0.4\n"
          ]
        }
      ],
      "source": [
        "!pip install pubchempy"
      ]
    },
    {
      "cell_type": "code",
      "source": [
        "!pip install --pre deepchem"
      ],
      "metadata": {
        "colab": {
          "base_uri": "https://localhost:8080/"
        },
        "id": "XY-8xy7SaqUO",
        "outputId": "b6ef388d-65d4-4f34-a928-b63e30633009"
      },
      "execution_count": null,
      "outputs": [
        {
          "output_type": "stream",
          "name": "stdout",
          "text": [
            "Collecting deepchem\n",
            "  Downloading deepchem-2.6.1-py3-none-any.whl (608 kB)\n",
            "\u001b[?25l\r\u001b[K     |▌                               | 10 kB 30.3 MB/s eta 0:00:01\r\u001b[K     |█                               | 20 kB 27.1 MB/s eta 0:00:01\r\u001b[K     |█▋                              | 30 kB 29.9 MB/s eta 0:00:01\r\u001b[K     |██▏                             | 40 kB 17.0 MB/s eta 0:00:01\r\u001b[K     |██▊                             | 51 kB 19.4 MB/s eta 0:00:01\r\u001b[K     |███▎                            | 61 kB 22.2 MB/s eta 0:00:01\r\u001b[K     |███▊                            | 71 kB 17.5 MB/s eta 0:00:01\r\u001b[K     |████▎                           | 81 kB 17.7 MB/s eta 0:00:01\r\u001b[K     |████▉                           | 92 kB 19.4 MB/s eta 0:00:01\r\u001b[K     |█████▍                          | 102 kB 19.8 MB/s eta 0:00:01\r\u001b[K     |██████                          | 112 kB 19.8 MB/s eta 0:00:01\r\u001b[K     |██████▌                         | 122 kB 19.8 MB/s eta 0:00:01\r\u001b[K     |███████                         | 133 kB 19.8 MB/s eta 0:00:01\r\u001b[K     |███████▌                        | 143 kB 19.8 MB/s eta 0:00:01\r\u001b[K     |████████                        | 153 kB 19.8 MB/s eta 0:00:01\r\u001b[K     |████████▋                       | 163 kB 19.8 MB/s eta 0:00:01\r\u001b[K     |█████████▏                      | 174 kB 19.8 MB/s eta 0:00:01\r\u001b[K     |█████████▊                      | 184 kB 19.8 MB/s eta 0:00:01\r\u001b[K     |██████████▎                     | 194 kB 19.8 MB/s eta 0:00:01\r\u001b[K     |██████████▊                     | 204 kB 19.8 MB/s eta 0:00:01\r\u001b[K     |███████████▎                    | 215 kB 19.8 MB/s eta 0:00:01\r\u001b[K     |███████████▉                    | 225 kB 19.8 MB/s eta 0:00:01\r\u001b[K     |████████████▍                   | 235 kB 19.8 MB/s eta 0:00:01\r\u001b[K     |█████████████                   | 245 kB 19.8 MB/s eta 0:00:01\r\u001b[K     |█████████████▌                  | 256 kB 19.8 MB/s eta 0:00:01\r\u001b[K     |██████████████                  | 266 kB 19.8 MB/s eta 0:00:01\r\u001b[K     |██████████████▌                 | 276 kB 19.8 MB/s eta 0:00:01\r\u001b[K     |███████████████                 | 286 kB 19.8 MB/s eta 0:00:01\r\u001b[K     |███████████████▋                | 296 kB 19.8 MB/s eta 0:00:01\r\u001b[K     |████████████████▏               | 307 kB 19.8 MB/s eta 0:00:01\r\u001b[K     |████████████████▊               | 317 kB 19.8 MB/s eta 0:00:01\r\u001b[K     |█████████████████▎              | 327 kB 19.8 MB/s eta 0:00:01\r\u001b[K     |█████████████████▊              | 337 kB 19.8 MB/s eta 0:00:01\r\u001b[K     |██████████████████▎             | 348 kB 19.8 MB/s eta 0:00:01\r\u001b[K     |██████████████████▉             | 358 kB 19.8 MB/s eta 0:00:01\r\u001b[K     |███████████████████▍            | 368 kB 19.8 MB/s eta 0:00:01\r\u001b[K     |████████████████████            | 378 kB 19.8 MB/s eta 0:00:01\r\u001b[K     |████████████████████▌           | 389 kB 19.8 MB/s eta 0:00:01\r\u001b[K     |█████████████████████           | 399 kB 19.8 MB/s eta 0:00:01\r\u001b[K     |█████████████████████▌          | 409 kB 19.8 MB/s eta 0:00:01\r\u001b[K     |██████████████████████          | 419 kB 19.8 MB/s eta 0:00:01\r\u001b[K     |██████████████████████▋         | 430 kB 19.8 MB/s eta 0:00:01\r\u001b[K     |███████████████████████▏        | 440 kB 19.8 MB/s eta 0:00:01\r\u001b[K     |███████████████████████▊        | 450 kB 19.8 MB/s eta 0:00:01\r\u001b[K     |████████████████████████▎       | 460 kB 19.8 MB/s eta 0:00:01\r\u001b[K     |████████████████████████▉       | 471 kB 19.8 MB/s eta 0:00:01\r\u001b[K     |█████████████████████████▎      | 481 kB 19.8 MB/s eta 0:00:01\r\u001b[K     |█████████████████████████▉      | 491 kB 19.8 MB/s eta 0:00:01\r\u001b[K     |██████████████████████████▍     | 501 kB 19.8 MB/s eta 0:00:01\r\u001b[K     |███████████████████████████     | 512 kB 19.8 MB/s eta 0:00:01\r\u001b[K     |███████████████████████████▌    | 522 kB 19.8 MB/s eta 0:00:01\r\u001b[K     |████████████████████████████    | 532 kB 19.8 MB/s eta 0:00:01\r\u001b[K     |████████████████████████████▌   | 542 kB 19.8 MB/s eta 0:00:01\r\u001b[K     |█████████████████████████████   | 552 kB 19.8 MB/s eta 0:00:01\r\u001b[K     |█████████████████████████████▋  | 563 kB 19.8 MB/s eta 0:00:01\r\u001b[K     |██████████████████████████████▏ | 573 kB 19.8 MB/s eta 0:00:01\r\u001b[K     |██████████████████████████████▊ | 583 kB 19.8 MB/s eta 0:00:01\r\u001b[K     |███████████████████████████████▎| 593 kB 19.8 MB/s eta 0:00:01\r\u001b[K     |███████████████████████████████▉| 604 kB 19.8 MB/s eta 0:00:01\r\u001b[K     |████████████████████████████████| 608 kB 19.8 MB/s \n",
            "\u001b[?25hRequirement already satisfied: pandas in /usr/local/lib/python3.7/dist-packages (from deepchem) (1.3.5)\n",
            "Collecting rdkit-pypi\n",
            "  Downloading rdkit_pypi-2022.3.2.1-cp37-cp37m-manylinux_2_17_x86_64.manylinux2014_x86_64.whl (22.7 MB)\n",
            "\u001b[K     |████████████████████████████████| 22.7 MB 1.6 MB/s \n",
            "\u001b[?25hRequirement already satisfied: scikit-learn in /usr/local/lib/python3.7/dist-packages (from deepchem) (1.0.2)\n",
            "Requirement already satisfied: scipy in /usr/local/lib/python3.7/dist-packages (from deepchem) (1.4.1)\n",
            "Requirement already satisfied: numpy>=1.21 in /usr/local/lib/python3.7/dist-packages (from deepchem) (1.21.6)\n",
            "Requirement already satisfied: joblib in /usr/local/lib/python3.7/dist-packages (from deepchem) (1.1.0)\n",
            "Requirement already satisfied: python-dateutil>=2.7.3 in /usr/local/lib/python3.7/dist-packages (from pandas->deepchem) (2.8.2)\n",
            "Requirement already satisfied: pytz>=2017.3 in /usr/local/lib/python3.7/dist-packages (from pandas->deepchem) (2022.1)\n",
            "Requirement already satisfied: six>=1.5 in /usr/local/lib/python3.7/dist-packages (from python-dateutil>=2.7.3->pandas->deepchem) (1.15.0)\n",
            "Requirement already satisfied: Pillow in /usr/local/lib/python3.7/dist-packages (from rdkit-pypi->deepchem) (7.1.2)\n",
            "Requirement already satisfied: threadpoolctl>=2.0.0 in /usr/local/lib/python3.7/dist-packages (from scikit-learn->deepchem) (3.1.0)\n",
            "Installing collected packages: rdkit-pypi, deepchem\n",
            "Successfully installed deepchem-2.6.1 rdkit-pypi-2022.3.2.1\n"
          ]
        }
      ]
    },
    {
      "cell_type": "code",
      "source": [
        "from google.colab import drive\n",
        "drive.mount('/content/drive')"
      ],
      "metadata": {
        "colab": {
          "base_uri": "https://localhost:8080/"
        },
        "id": "6xXEEENua8qf",
        "outputId": "6155c0fa-1e43-4788-a3aa-54f9dbd89c77"
      },
      "execution_count": null,
      "outputs": [
        {
          "output_type": "stream",
          "name": "stdout",
          "text": [
            "Mounted at /content/drive\n"
          ]
        }
      ]
    },
    {
      "cell_type": "code",
      "source": [
        "import pubchempy as pcp\n",
        "import deepchem as dc\n",
        "import os\n",
        "import pandas as pd\n",
        "import numpy as np\n",
        "import matplotlib.pyplot as plt\n",
        "import seaborn as sns\n",
        "from collections import Counter\n",
        "import rdkit as rd\n",
        "from time import sleep\n",
        "import dill"
      ],
      "metadata": {
        "id": "vnRdnsk-akYb"
      },
      "execution_count": null,
      "outputs": []
    },
    {
      "cell_type": "code",
      "source": [
        "paper_dir = '/content/drive/MyDrive/GridX - Data Science/'+\\\n",
        "'Backup Data Bioeutectics/IA BioEutectics GRIDX/3.Modelo de  Optimización/'+ \\\n",
        "'Bibliografia_ML_NADES/Density_Viscosity_prediction_2020/'\n",
        "\n",
        "os.listdir(paper_dir)"
      ],
      "metadata": {
        "colab": {
          "base_uri": "https://localhost:8080/"
        },
        "id": "cIUvI-esamsx",
        "outputId": "ebf68b7c-0904-4486-834e-01d5fc969ef6"
      },
      "execution_count": null,
      "outputs": [
        {
          "output_type": "execute_result",
          "data": {
            "text/plain": [
              "['density_viscosity_hydrophobic_eutectic_solvents_2020.pdf',\n",
              " 'density_viscosity_hydrophobic_eutectic_solvents_2020_suppl_info.pdf',\n",
              " 'density_viscosity_hydrophobic_eutectic_solvents_2020_suppl_info-converted 1.0.txt',\n",
              " 'density_viscosity_hydrophobic_eutectic_solvents_2020_suppl_info-converted 1.0.xlsx',\n",
              " 'density_visc_v1.csv',\n",
              " 'density_experiments.csv',\n",
              " 'viscosity_experiments.csv',\n",
              " 'all_compounds.gsheet',\n",
              " 'all_compounds.tsv',\n",
              " 'deepchem_dataset']"
            ]
          },
          "metadata": {},
          "execution_count": 5
        }
      ]
    },
    {
      "cell_type": "markdown",
      "source": [
        "### EDA"
      ],
      "metadata": {
        "id": "50cz1IkNejgO"
      }
    },
    {
      "cell_type": "code",
      "source": [
        "visc = pd.read_csv(os.path.join(paper_dir,'viscosity_experiments.csv'))\n",
        "visc.head()"
      ],
      "metadata": {
        "colab": {
          "base_uri": "https://localhost:8080/",
          "height": 206
        },
        "id": "WbyLq-a3bGXM",
        "outputId": "ff081fee-fb9a-4802-9b01-fb46c189eb51"
      },
      "execution_count": null,
      "outputs": [
        {
          "output_type": "execute_result",
          "data": {
            "text/plain": [
              "                                         description experiment_id  \\\n",
              "0  HES1- Decanoic Acid : Tetrabutylammonium Chlor...          HES1   \n",
              "1  HES1- Decanoic Acid : Tetrabutylammonium Chlor...          HES1   \n",
              "2  HES1- Decanoic Acid : Tetrabutylammonium Chlor...          HES1   \n",
              "3  HES1- Decanoic Acid : Tetrabutylammonium Chlor...          HES1   \n",
              "4  HES1- Decanoic Acid : Tetrabutylammonium Chlor...          HES1   \n",
              "\n",
              "           comp_a                       comp_b  N_a  N_b  T_visc    visc  \n",
              "0  Decanoic Acid   Tetrabutylammonium Chloride  2.0  1.0   288.2  526.39  \n",
              "1  Decanoic Acid   Tetrabutylammonium Chloride  2.0  1.0   293.2  368.54  \n",
              "2  Decanoic Acid   Tetrabutylammonium Chloride  2.0  1.0   298.2  265.26  \n",
              "3  Decanoic Acid   Tetrabutylammonium Chloride  2.0  1.0   303.2  195.05  \n",
              "4  Decanoic Acid   Tetrabutylammonium Chloride  2.0  1.0   308.2  146.16  "
            ],
            "text/html": [
              "\n",
              "  <div id=\"df-252f73ce-3b2c-4a58-949b-083bd506cdd8\">\n",
              "    <div class=\"colab-df-container\">\n",
              "      <div>\n",
              "<style scoped>\n",
              "    .dataframe tbody tr th:only-of-type {\n",
              "        vertical-align: middle;\n",
              "    }\n",
              "\n",
              "    .dataframe tbody tr th {\n",
              "        vertical-align: top;\n",
              "    }\n",
              "\n",
              "    .dataframe thead th {\n",
              "        text-align: right;\n",
              "    }\n",
              "</style>\n",
              "<table border=\"1\" class=\"dataframe\">\n",
              "  <thead>\n",
              "    <tr style=\"text-align: right;\">\n",
              "      <th></th>\n",
              "      <th>description</th>\n",
              "      <th>experiment_id</th>\n",
              "      <th>comp_a</th>\n",
              "      <th>comp_b</th>\n",
              "      <th>N_a</th>\n",
              "      <th>N_b</th>\n",
              "      <th>T_visc</th>\n",
              "      <th>visc</th>\n",
              "    </tr>\n",
              "  </thead>\n",
              "  <tbody>\n",
              "    <tr>\n",
              "      <th>0</th>\n",
              "      <td>HES1- Decanoic Acid : Tetrabutylammonium Chlor...</td>\n",
              "      <td>HES1</td>\n",
              "      <td>Decanoic Acid</td>\n",
              "      <td>Tetrabutylammonium Chloride</td>\n",
              "      <td>2.0</td>\n",
              "      <td>1.0</td>\n",
              "      <td>288.2</td>\n",
              "      <td>526.39</td>\n",
              "    </tr>\n",
              "    <tr>\n",
              "      <th>1</th>\n",
              "      <td>HES1- Decanoic Acid : Tetrabutylammonium Chlor...</td>\n",
              "      <td>HES1</td>\n",
              "      <td>Decanoic Acid</td>\n",
              "      <td>Tetrabutylammonium Chloride</td>\n",
              "      <td>2.0</td>\n",
              "      <td>1.0</td>\n",
              "      <td>293.2</td>\n",
              "      <td>368.54</td>\n",
              "    </tr>\n",
              "    <tr>\n",
              "      <th>2</th>\n",
              "      <td>HES1- Decanoic Acid : Tetrabutylammonium Chlor...</td>\n",
              "      <td>HES1</td>\n",
              "      <td>Decanoic Acid</td>\n",
              "      <td>Tetrabutylammonium Chloride</td>\n",
              "      <td>2.0</td>\n",
              "      <td>1.0</td>\n",
              "      <td>298.2</td>\n",
              "      <td>265.26</td>\n",
              "    </tr>\n",
              "    <tr>\n",
              "      <th>3</th>\n",
              "      <td>HES1- Decanoic Acid : Tetrabutylammonium Chlor...</td>\n",
              "      <td>HES1</td>\n",
              "      <td>Decanoic Acid</td>\n",
              "      <td>Tetrabutylammonium Chloride</td>\n",
              "      <td>2.0</td>\n",
              "      <td>1.0</td>\n",
              "      <td>303.2</td>\n",
              "      <td>195.05</td>\n",
              "    </tr>\n",
              "    <tr>\n",
              "      <th>4</th>\n",
              "      <td>HES1- Decanoic Acid : Tetrabutylammonium Chlor...</td>\n",
              "      <td>HES1</td>\n",
              "      <td>Decanoic Acid</td>\n",
              "      <td>Tetrabutylammonium Chloride</td>\n",
              "      <td>2.0</td>\n",
              "      <td>1.0</td>\n",
              "      <td>308.2</td>\n",
              "      <td>146.16</td>\n",
              "    </tr>\n",
              "  </tbody>\n",
              "</table>\n",
              "</div>\n",
              "      <button class=\"colab-df-convert\" onclick=\"convertToInteractive('df-252f73ce-3b2c-4a58-949b-083bd506cdd8')\"\n",
              "              title=\"Convert this dataframe to an interactive table.\"\n",
              "              style=\"display:none;\">\n",
              "        \n",
              "  <svg xmlns=\"http://www.w3.org/2000/svg\" height=\"24px\"viewBox=\"0 0 24 24\"\n",
              "       width=\"24px\">\n",
              "    <path d=\"M0 0h24v24H0V0z\" fill=\"none\"/>\n",
              "    <path d=\"M18.56 5.44l.94 2.06.94-2.06 2.06-.94-2.06-.94-.94-2.06-.94 2.06-2.06.94zm-11 1L8.5 8.5l.94-2.06 2.06-.94-2.06-.94L8.5 2.5l-.94 2.06-2.06.94zm10 10l.94 2.06.94-2.06 2.06-.94-2.06-.94-.94-2.06-.94 2.06-2.06.94z\"/><path d=\"M17.41 7.96l-1.37-1.37c-.4-.4-.92-.59-1.43-.59-.52 0-1.04.2-1.43.59L10.3 9.45l-7.72 7.72c-.78.78-.78 2.05 0 2.83L4 21.41c.39.39.9.59 1.41.59.51 0 1.02-.2 1.41-.59l7.78-7.78 2.81-2.81c.8-.78.8-2.07 0-2.86zM5.41 20L4 18.59l7.72-7.72 1.47 1.35L5.41 20z\"/>\n",
              "  </svg>\n",
              "      </button>\n",
              "      \n",
              "  <style>\n",
              "    .colab-df-container {\n",
              "      display:flex;\n",
              "      flex-wrap:wrap;\n",
              "      gap: 12px;\n",
              "    }\n",
              "\n",
              "    .colab-df-convert {\n",
              "      background-color: #E8F0FE;\n",
              "      border: none;\n",
              "      border-radius: 50%;\n",
              "      cursor: pointer;\n",
              "      display: none;\n",
              "      fill: #1967D2;\n",
              "      height: 32px;\n",
              "      padding: 0 0 0 0;\n",
              "      width: 32px;\n",
              "    }\n",
              "\n",
              "    .colab-df-convert:hover {\n",
              "      background-color: #E2EBFA;\n",
              "      box-shadow: 0px 1px 2px rgba(60, 64, 67, 0.3), 0px 1px 3px 1px rgba(60, 64, 67, 0.15);\n",
              "      fill: #174EA6;\n",
              "    }\n",
              "\n",
              "    [theme=dark] .colab-df-convert {\n",
              "      background-color: #3B4455;\n",
              "      fill: #D2E3FC;\n",
              "    }\n",
              "\n",
              "    [theme=dark] .colab-df-convert:hover {\n",
              "      background-color: #434B5C;\n",
              "      box-shadow: 0px 1px 3px 1px rgba(0, 0, 0, 0.15);\n",
              "      filter: drop-shadow(0px 1px 2px rgba(0, 0, 0, 0.3));\n",
              "      fill: #FFFFFF;\n",
              "    }\n",
              "  </style>\n",
              "\n",
              "      <script>\n",
              "        const buttonEl =\n",
              "          document.querySelector('#df-252f73ce-3b2c-4a58-949b-083bd506cdd8 button.colab-df-convert');\n",
              "        buttonEl.style.display =\n",
              "          google.colab.kernel.accessAllowed ? 'block' : 'none';\n",
              "\n",
              "        async function convertToInteractive(key) {\n",
              "          const element = document.querySelector('#df-252f73ce-3b2c-4a58-949b-083bd506cdd8');\n",
              "          const dataTable =\n",
              "            await google.colab.kernel.invokeFunction('convertToInteractive',\n",
              "                                                     [key], {});\n",
              "          if (!dataTable) return;\n",
              "\n",
              "          const docLinkHtml = 'Like what you see? Visit the ' +\n",
              "            '<a target=\"_blank\" href=https://colab.research.google.com/notebooks/data_table.ipynb>data table notebook</a>'\n",
              "            + ' to learn more about interactive tables.';\n",
              "          element.innerHTML = '';\n",
              "          dataTable['output_type'] = 'display_data';\n",
              "          await google.colab.output.renderOutput(dataTable, element);\n",
              "          const docLink = document.createElement('div');\n",
              "          docLink.innerHTML = docLinkHtml;\n",
              "          element.appendChild(docLink);\n",
              "        }\n",
              "      </script>\n",
              "    </div>\n",
              "  </div>\n",
              "  "
            ]
          },
          "metadata": {},
          "execution_count": 6
        }
      ]
    },
    {
      "cell_type": "code",
      "source": [
        "visc['T_visc_jitter'] = visc['T_visc'] + 0.7*np.random.randn((len(visc)))"
      ],
      "metadata": {
        "id": "OfDgdmFJcTif"
      },
      "execution_count": null,
      "outputs": []
    },
    {
      "cell_type": "code",
      "source": [
        "plt.figure(figsize = (25, 10))\n",
        "sns.scatterplot(x = 'T_visc', y = 'visc',\n",
        "                hue = 'experiment_id', data = visc,\n",
        "                s = 200, alpha = 1)"
      ],
      "metadata": {
        "colab": {
          "base_uri": "https://localhost:8080/",
          "height": 727
        },
        "collapsed": true,
        "id": "887GRA8abUha",
        "outputId": "f60b978c-a1b3-4900-9142-aa49212803ff"
      },
      "execution_count": null,
      "outputs": [
        {
          "output_type": "execute_result",
          "data": {
            "text/plain": [
              "<matplotlib.axes._subplots.AxesSubplot at 0x7fc401a0ac90>"
            ]
          },
          "metadata": {},
          "execution_count": 30
        },
        {
          "output_type": "display_data",
          "data": {
            "text/plain": [
              "<Figure size 1800x720 with 1 Axes>"
            ],
            "image/png": "[encoded data removed]"
          },
          "metadata": {
            "needs_background": "light"
          }
        }
      ]
    },
    {
      "cell_type": "code",
      "source": [
        "help(featurizer)"
      ],
      "metadata": {
        "colab": {
          "base_uri": "https://localhost:8080/"
        },
        "id": "4gye7p4L4SOA",
        "outputId": "fe1512d3-ce5f-409a-99f0-7d29ec333b87",
        "collapsed": true
      },
      "execution_count": null,
      "outputs": [
        {
          "output_type": "stream",
          "name": "stdout",
          "text": [
            "Help on ConvMolFeaturizer in module deepchem.feat.graph_features object:\n",
            "\n",
            "class ConvMolFeaturizer(deepchem.feat.base_classes.MolecularFeaturizer)\n",
            " |  ConvMolFeaturizer(master_atom: bool = False, use_chirality: bool = False, atom_properties: Iterable[str] = [], per_atom_fragmentation: bool = False)\n",
            " |  \n",
            " |  This class implements the featurization to implement Duvenaud graph convolutions.\n",
            " |  \n",
            " |  Duvenaud graph convolutions [1]_ construct a vector of descriptors for each\n",
            " |  atom in a molecule. The featurizer computes that vector of local descriptors.\n",
            " |  \n",
            " |  Examples\n",
            " |  ---------\n",
            " |  >>> import deepchem as dc\n",
            " |  >>> smiles = [\"C\", \"CCC\"]\n",
            " |  >>> featurizer=dc.feat.ConvMolFeaturizer(per_atom_fragmentation=False)\n",
            " |  >>> f = featurizer.featurize(smiles)\n",
            " |  >>> # Using ConvMolFeaturizer to create featurized fragments derived from molecules of interest.\n",
            " |  ... # This is used only in the context of performing interpretation of models using atomic\n",
            " |  ... # contributions (atom-based model interpretation)\n",
            " |  ... smiles = [\"C\", \"CCC\"]\n",
            " |  >>> featurizer=dc.feat.ConvMolFeaturizer(per_atom_fragmentation=True)\n",
            " |  >>> f = featurizer.featurize(smiles)\n",
            " |  >>> len(f) # contains 2 lists with  featurized fragments from 2 mols\n",
            " |  2\n",
            " |  \n",
            " |  See Also\n",
            " |  --------\n",
            " |  Detailed examples of `GraphConvModel` interpretation are provided in Tutorial #28\n",
            " |  \n",
            " |  References\n",
            " |  ---------\n",
            " |  \n",
            " |  .. [1] Duvenaud, David K., et al. \"Convolutional networks on graphs for\n",
            " |         learning molecular fingerprints.\" Advances in neural information\n",
            " |         processing systems. 2015.\n",
            " |  \n",
            " |  Note\n",
            " |  ----\n",
            " |  This class requires RDKit to be installed.\n",
            " |  \n",
            " |  Method resolution order:\n",
            " |      ConvMolFeaturizer\n",
            " |      deepchem.feat.base_classes.MolecularFeaturizer\n",
            " |      deepchem.feat.base_classes.Featurizer\n",
            " |      builtins.object\n",
            " |  \n",
            " |  Methods defined here:\n",
            " |  \n",
            " |  __eq__(self, other)\n",
            " |      Return self==value.\n",
            " |  \n",
            " |  __hash__(self)\n",
            " |      Return hash(self).\n",
            " |  \n",
            " |  __init__(self, master_atom: bool = False, use_chirality: bool = False, atom_properties: Iterable[str] = [], per_atom_fragmentation: bool = False)\n",
            " |      Parameters\n",
            " |      ----------\n",
            " |      master_atom: Boolean\n",
            " |        if true create a fake atom with bonds to every other atom.\n",
            " |        the initialization is the mean of the other atom features in\n",
            " |        the molecule.  This technique is briefly discussed in\n",
            " |        Neural Message Passing for Quantum Chemistry\n",
            " |        https://arxiv.org/pdf/1704.01212.pdf\n",
            " |      use_chirality: Boolean\n",
            " |        if true then make the resulting atom features aware of the\n",
            " |        chirality of the molecules in question\n",
            " |      atom_properties: list of string or None\n",
            " |        properties in the RDKit Mol object to use as additional\n",
            " |        atom-level features in the larger molecular feature.  If None,\n",
            " |        then no atom-level properties are used.  Properties should be in the\n",
            " |        RDKit mol object should be in the form\n",
            " |        atom XXXXXXXX NAME\n",
            " |        where XXXXXXXX is a zero-padded 8 digit number coresponding to the\n",
            " |        zero-indexed atom index of each atom and NAME is the name of the property\n",
            " |        provided in atom_properties.  So \"atom 00000000 sasa\" would be the\n",
            " |        name of the molecule level property in mol where the solvent\n",
            " |        accessible surface area of atom 0 would be stored.\n",
            " |      per_atom_fragmentation: Boolean\n",
            " |        If True, then multiple \"atom-depleted\" versions of each molecule will be created (using featurize() method).\n",
            " |        For each molecule, atoms are removed one at a time and the resulting molecule is featurized.\n",
            " |        The result is a list of ConvMol objects,\n",
            " |        one with each heavy atom removed. This is useful for subsequent model interpretation: finding atoms\n",
            " |        favorable/unfavorable for (modelled) activity. This option is typically used in combination\n",
            " |        with a FlatteningTransformer to split the lists into separate samples.\n",
            " |      \n",
            " |      Since ConvMol is an object and not a numpy array, need to set dtype to\n",
            " |      object.\n",
            " |  \n",
            " |  feature_length(self)\n",
            " |  \n",
            " |  featurize(self, datapoints: Union[Any, str, Iterable[Any], Iterable[str]], log_every_n: int = 1000, **kwargs) -> numpy.ndarray\n",
            " |      Override parent: aim is to add handling atom-depleted molecules featurization\n",
            " |      \n",
            " |      Parameters\n",
            " |      ----------\n",
            " |      datapoints: rdkit.Chem.rdchem.Mol / SMILES string / iterable\n",
            " |        RDKit Mol, or SMILES string or iterable sequence of RDKit mols/SMILES\n",
            " |        strings.\n",
            " |      log_every_n: int, default 1000\n",
            " |        Logging messages reported every `log_every_n` samples.\n",
            " |      \n",
            " |      Returns\n",
            " |      -------\n",
            " |      features: np.ndarray\n",
            " |        A numpy array containing a featurized representation of `datapoints`.\n",
            " |  \n",
            " |  ----------------------------------------------------------------------\n",
            " |  Data and other attributes defined here:\n",
            " |  \n",
            " |  name = ['conv_mol']\n",
            " |  \n",
            " |  ----------------------------------------------------------------------\n",
            " |  Methods inherited from deepchem.feat.base_classes.Featurizer:\n",
            " |  \n",
            " |  __call__(self, datapoints: Iterable[Any], **kwargs)\n",
            " |      Calculate features for datapoints.\n",
            " |      \n",
            " |      `**kwargs` will get passed directly to `Featurizer.featurize`\n",
            " |      \n",
            " |      Parameters\n",
            " |      ----------\n",
            " |      datapoints: Iterable[Any]\n",
            " |        Any blob of data you like. Subclasss should instantiate this.\n",
            " |  \n",
            " |  __repr__(self) -> str\n",
            " |      Convert self to repr representation.\n",
            " |      \n",
            " |      Returns\n",
            " |      -------\n",
            " |      str\n",
            " |        The string represents the class.\n",
            " |      \n",
            " |      Examples\n",
            " |      --------\n",
            " |      >>> import deepchem as dc\n",
            " |      >>> dc.feat.CircularFingerprint(size=1024, radius=4)\n",
            " |      CircularFingerprint[radius=4, size=1024, chiral=False, bonds=True, features=False, sparse=False, smiles=False]\n",
            " |      >>> dc.feat.CGCNNFeaturizer()\n",
            " |      CGCNNFeaturizer[radius=8.0, max_neighbors=12, step=0.2]\n",
            " |  \n",
            " |  __str__(self) -> str\n",
            " |      Convert self to str representation.\n",
            " |      \n",
            " |      Returns\n",
            " |      -------\n",
            " |      str\n",
            " |        The string represents the class.\n",
            " |      \n",
            " |      Examples\n",
            " |      --------\n",
            " |      >>> import deepchem as dc\n",
            " |      >>> str(dc.feat.CircularFingerprint(size=1024, radius=4))\n",
            " |      'CircularFingerprint_radius_4_size_1024'\n",
            " |      >>> str(dc.feat.CGCNNFeaturizer())\n",
            " |      'CGCNNFeaturizer'\n",
            " |  \n",
            " |  ----------------------------------------------------------------------\n",
            " |  Data descriptors inherited from deepchem.feat.base_classes.Featurizer:\n",
            " |  \n",
            " |  __dict__\n",
            " |      dictionary for instance variables (if defined)\n",
            " |  \n",
            " |  __weakref__\n",
            " |      list of weak references to the object (if defined)\n",
            "\n"
          ]
        }
      ]
    },
    {
      "cell_type": "code",
      "source": [
        "featurizer=dc.feat.ConvMolFeaturizer(per_atom_fragmentation=False)"
      ],
      "metadata": {
        "id": "Nbsr-Cxiegs6"
      },
      "execution_count": null,
      "outputs": []
    },
    {
      "cell_type": "code",
      "source": [
        "os.listdir(paper_dir)"
      ],
      "metadata": {
        "colab": {
          "base_uri": "https://localhost:8080/"
        },
        "id": "gvK9PAkchjEI",
        "outputId": "c8434df6-a1a9-4556-dce0-cb71cf71dfb0"
      },
      "execution_count": null,
      "outputs": [
        {
          "output_type": "execute_result",
          "data": {
            "text/plain": [
              "['density_viscosity_hydrophobic_eutectic_solvents_2020.pdf',\n",
              " 'density_viscosity_hydrophobic_eutectic_solvents_2020_suppl_info.pdf',\n",
              " 'density_viscosity_hydrophobic_eutectic_solvents_2020_suppl_info-converted 1.0.txt',\n",
              " 'density_viscosity_hydrophobic_eutectic_solvents_2020_suppl_info-converted 1.0.xlsx',\n",
              " 'density_visc_v1.csv',\n",
              " 'density_experiments.csv',\n",
              " 'viscosity_experiments.csv',\n",
              " 'all_compounds.gsheet',\n",
              " 'all_compounds.tsv',\n",
              " 'deepchem_dataset']"
            ]
          },
          "metadata": {},
          "execution_count": 8
        }
      ]
    },
    {
      "cell_type": "code",
      "source": [
        "comp_lkp = pd.read_csv(os.path.join(paper_dir, 'all_compounds.tsv'),\n",
        "                       sep = '\\t')\n",
        "comp_lkp.head()"
      ],
      "metadata": {
        "colab": {
          "base_uri": "https://localhost:8080/",
          "height": 206
        },
        "id": "Muz9_MDJhnOB",
        "outputId": "9dd4e2ec-0021-4d7d-b290-420de17326ed"
      },
      "execution_count": null,
      "outputs": [
        {
          "output_type": "execute_result",
          "data": {
            "text/plain": [
              "  compound_name_in_article         comps_list  list_len  \\\n",
              "0   3-Hydroxy Benzoic Acid   [Compound(7420)]         1   \n",
              "1                   Phenol    [Compound(996)]         1   \n",
              "2                  Sesamol  [Compound(68289)]         1   \n",
              "3             Pyruvic Acid   [Compound(1060)]         1   \n",
              "4              Acetic Acid    [Compound(176)]         1   \n",
              "\n",
              "         canonical_smiles    cid             iupac_name molecular_formula  \n",
              "0  C1=CC(=CC(=C1)O)C(=O)O   7420  3-hydroxybenzoic acid            C7H6O3  \n",
              "1          C1=CC=C(C=C1)O    996                 phenol             C6H6O  \n",
              "2   C1OC2=C(O1)C=C(C=C2)O  68289   1,3-benzodioxol-5-ol            C7H6O3  \n",
              "3            CC(=O)C(=O)O   1060    2-oxopropanoic acid            C3H4O3  \n",
              "4                 CC(=O)O    176            acetic acid            C2H4O2  "
            ],
            "text/html": [
              "\n",
              "  <div id=\"df-b9b4e25c-2d4a-436a-a599-8057f082c15b\">\n",
              "    <div class=\"colab-df-container\">\n",
              "      <div>\n",
              "<style scoped>\n",
              "    .dataframe tbody tr th:only-of-type {\n",
              "        vertical-align: middle;\n",
              "    }\n",
              "\n",
              "    .dataframe tbody tr th {\n",
              "        vertical-align: top;\n",
              "    }\n",
              "\n",
              "    .dataframe thead th {\n",
              "        text-align: right;\n",
              "    }\n",
              "</style>\n",
              "<table border=\"1\" class=\"dataframe\">\n",
              "  <thead>\n",
              "    <tr style=\"text-align: right;\">\n",
              "      <th></th>\n",
              "      <th>compound_name_in_article</th>\n",
              "      <th>comps_list</th>\n",
              "      <th>list_len</th>\n",
              "      <th>canonical_smiles</th>\n",
              "      <th>cid</th>\n",
              "      <th>iupac_name</th>\n",
              "      <th>molecular_formula</th>\n",
              "    </tr>\n",
              "  </thead>\n",
              "  <tbody>\n",
              "    <tr>\n",
              "      <th>0</th>\n",
              "      <td>3-Hydroxy Benzoic Acid</td>\n",
              "      <td>[Compound(7420)]</td>\n",
              "      <td>1</td>\n",
              "      <td>C1=CC(=CC(=C1)O)C(=O)O</td>\n",
              "      <td>7420</td>\n",
              "      <td>3-hydroxybenzoic acid</td>\n",
              "      <td>C7H6O3</td>\n",
              "    </tr>\n",
              "    <tr>\n",
              "      <th>1</th>\n",
              "      <td>Phenol</td>\n",
              "      <td>[Compound(996)]</td>\n",
              "      <td>1</td>\n",
              "      <td>C1=CC=C(C=C1)O</td>\n",
              "      <td>996</td>\n",
              "      <td>phenol</td>\n",
              "      <td>C6H6O</td>\n",
              "    </tr>\n",
              "    <tr>\n",
              "      <th>2</th>\n",
              "      <td>Sesamol</td>\n",
              "      <td>[Compound(68289)]</td>\n",
              "      <td>1</td>\n",
              "      <td>C1OC2=C(O1)C=C(C=C2)O</td>\n",
              "      <td>68289</td>\n",
              "      <td>1,3-benzodioxol-5-ol</td>\n",
              "      <td>C7H6O3</td>\n",
              "    </tr>\n",
              "    <tr>\n",
              "      <th>3</th>\n",
              "      <td>Pyruvic Acid</td>\n",
              "      <td>[Compound(1060)]</td>\n",
              "      <td>1</td>\n",
              "      <td>CC(=O)C(=O)O</td>\n",
              "      <td>1060</td>\n",
              "      <td>2-oxopropanoic acid</td>\n",
              "      <td>C3H4O3</td>\n",
              "    </tr>\n",
              "    <tr>\n",
              "      <th>4</th>\n",
              "      <td>Acetic Acid</td>\n",
              "      <td>[Compound(176)]</td>\n",
              "      <td>1</td>\n",
              "      <td>CC(=O)O</td>\n",
              "      <td>176</td>\n",
              "      <td>acetic acid</td>\n",
              "      <td>C2H4O2</td>\n",
              "    </tr>\n",
              "  </tbody>\n",
              "</table>\n",
              "</div>\n",
              "      <button class=\"colab-df-convert\" onclick=\"convertToInteractive('df-b9b4e25c-2d4a-436a-a599-8057f082c15b')\"\n",
              "              title=\"Convert this dataframe to an interactive table.\"\n",
              "              style=\"display:none;\">\n",
              "        \n",
              "  <svg xmlns=\"http://www.w3.org/2000/svg\" height=\"24px\"viewBox=\"0 0 24 24\"\n",
              "       width=\"24px\">\n",
              "    <path d=\"M0 0h24v24H0V0z\" fill=\"none\"/>\n",
              "    <path d=\"M18.56 5.44l.94 2.06.94-2.06 2.06-.94-2.06-.94-.94-2.06-.94 2.06-2.06.94zm-11 1L8.5 8.5l.94-2.06 2.06-.94-2.06-.94L8.5 2.5l-.94 2.06-2.06.94zm10 10l.94 2.06.94-2.06 2.06-.94-2.06-.94-.94-2.06-.94 2.06-2.06.94z\"/><path d=\"M17.41 7.96l-1.37-1.37c-.4-.4-.92-.59-1.43-.59-.52 0-1.04.2-1.43.59L10.3 9.45l-7.72 7.72c-.78.78-.78 2.05 0 2.83L4 21.41c.39.39.9.59 1.41.59.51 0 1.02-.2 1.41-.59l7.78-7.78 2.81-2.81c.8-.78.8-2.07 0-2.86zM5.41 20L4 18.59l7.72-7.72 1.47 1.35L5.41 20z\"/>\n",
              "  </svg>\n",
              "      </button>\n",
              "      \n",
              "  <style>\n",
              "    .colab-df-container {\n",
              "      display:flex;\n",
              "      flex-wrap:wrap;\n",
              "      gap: 12px;\n",
              "    }\n",
              "\n",
              "    .colab-df-convert {\n",
              "      background-color: #E8F0FE;\n",
              "      border: none;\n",
              "      border-radius: 50%;\n",
              "      cursor: pointer;\n",
              "      display: none;\n",
              "      fill: #1967D2;\n",
              "      height: 32px;\n",
              "      padding: 0 0 0 0;\n",
              "      width: 32px;\n",
              "    }\n",
              "\n",
              "    .colab-df-convert:hover {\n",
              "      background-color: #E2EBFA;\n",
              "      box-shadow: 0px 1px 2px rgba(60, 64, 67, 0.3), 0px 1px 3px 1px rgba(60, 64, 67, 0.15);\n",
              "      fill: #174EA6;\n",
              "    }\n",
              "\n",
              "    [theme=dark] .colab-df-convert {\n",
              "      background-color: #3B4455;\n",
              "      fill: #D2E3FC;\n",
              "    }\n",
              "\n",
              "    [theme=dark] .colab-df-convert:hover {\n",
              "      background-color: #434B5C;\n",
              "      box-shadow: 0px 1px 3px 1px rgba(0, 0, 0, 0.15);\n",
              "      filter: drop-shadow(0px 1px 2px rgba(0, 0, 0, 0.3));\n",
              "      fill: #FFFFFF;\n",
              "    }\n",
              "  </style>\n",
              "\n",
              "      <script>\n",
              "        const buttonEl =\n",
              "          document.querySelector('#df-b9b4e25c-2d4a-436a-a599-8057f082c15b button.colab-df-convert');\n",
              "        buttonEl.style.display =\n",
              "          google.colab.kernel.accessAllowed ? 'block' : 'none';\n",
              "\n",
              "        async function convertToInteractive(key) {\n",
              "          const element = document.querySelector('#df-b9b4e25c-2d4a-436a-a599-8057f082c15b');\n",
              "          const dataTable =\n",
              "            await google.colab.kernel.invokeFunction('convertToInteractive',\n",
              "                                                     [key], {});\n",
              "          if (!dataTable) return;\n",
              "\n",
              "          const docLinkHtml = 'Like what you see? Visit the ' +\n",
              "            '<a target=\"_blank\" href=https://colab.research.google.com/notebooks/data_table.ipynb>data table notebook</a>'\n",
              "            + ' to learn more about interactive tables.';\n",
              "          element.innerHTML = '';\n",
              "          dataTable['output_type'] = 'display_data';\n",
              "          await google.colab.output.renderOutput(dataTable, element);\n",
              "          const docLink = document.createElement('div');\n",
              "          docLink.innerHTML = docLinkHtml;\n",
              "          element.appendChild(docLink);\n",
              "        }\n",
              "      </script>\n",
              "    </div>\n",
              "  </div>\n",
              "  "
            ]
          },
          "metadata": {},
          "execution_count": 9
        }
      ]
    },
    {
      "cell_type": "code",
      "source": [
        "help(featurizer.featurize)"
      ],
      "metadata": {
        "colab": {
          "base_uri": "https://localhost:8080/"
        },
        "id": "UWyp1C2c3DvW",
        "outputId": "f27d38e7-ac27-4d19-e4c1-b6d6e022df94"
      },
      "execution_count": null,
      "outputs": [
        {
          "output_type": "stream",
          "name": "stdout",
          "text": [
            "Help on method featurize in module deepchem.feat.graph_features:\n",
            "\n",
            "featurize(datapoints: Union[Any, str, Iterable[Any], Iterable[str]], log_every_n: int = 1000, **kwargs) -> numpy.ndarray method of deepchem.feat.graph_features.ConvMolFeaturizer instance\n",
            "    Override parent: aim is to add handling atom-depleted molecules featurization\n",
            "    \n",
            "    Parameters\n",
            "    ----------\n",
            "    datapoints: rdkit.Chem.rdchem.Mol / SMILES string / iterable\n",
            "      RDKit Mol, or SMILES string or iterable sequence of RDKit mols/SMILES\n",
            "      strings.\n",
            "    log_every_n: int, default 1000\n",
            "      Logging messages reported every `log_every_n` samples.\n",
            "    \n",
            "    Returns\n",
            "    -------\n",
            "    features: np.ndarray\n",
            "      A numpy array containing a featurized representation of `datapoints`.\n",
            "\n"
          ]
        }
      ]
    },
    {
      "cell_type": "code",
      "source": [
        "comps_features = featurizer.featurize(comp_lkp.canonical_smiles)"
      ],
      "metadata": {
        "id": "OUHO0Mq8ixNU"
      },
      "execution_count": null,
      "outputs": []
    },
    {
      "cell_type": "code",
      "source": [
        "conv_mol_X = pd.DataFrame({'ConvMol' : comps_features,\n",
        "              'cid': comp_lkp.cid})"
      ],
      "metadata": {
        "id": "XOjISMqjkwXn"
      },
      "execution_count": null,
      "outputs": []
    },
    {
      "cell_type": "code",
      "source": [
        "plt.imshow(comps_features[0].atom_features)"
      ],
      "metadata": {
        "colab": {
          "base_uri": "https://localhost:8080/",
          "height": 111
        },
        "id": "js5ANxEDjvid",
        "outputId": "47ade545-7422-4bd4-9f3b-9bc116f69d9b"
      },
      "execution_count": null,
      "outputs": [
        {
          "output_type": "execute_result",
          "data": {
            "text/plain": [
              "<matplotlib.image.AxesImage at 0x7fc2d7f88410>"
            ]
          },
          "metadata": {},
          "execution_count": 73
        },
        {
          "output_type": "display_data",
          "data": {
            "text/plain": [
              "<Figure size 432x288 with 1 Axes>"
            ],
            "image/png": "[encoded data removed]"
          },
          "metadata": {
            "needs_background": "light"
          }
        }
      ]
    },
    {
      "cell_type": "code",
      "source": [
        "pcp_comps = []\n",
        "\n",
        "for ix in comp_lkp.cid:\n",
        "  pcp_comps.append(pcp.Compound.from_cid(ix))\n",
        "  sleep(0.5)"
      ],
      "metadata": {
        "id": "3px1zSIEmpC8",
        "collapsed": true
      },
      "execution_count": null,
      "outputs": []
    },
    {
      "cell_type": "code",
      "source": [
        "comp_xlogp = pcp.compounds_to_frame(pcp_comps, properties = ['xlogp']).reset_index()"
      ],
      "metadata": {
        "id": "IV80UIEMm_5E"
      },
      "execution_count": null,
      "outputs": []
    },
    {
      "cell_type": "code",
      "source": [
        "conv_mol_X_y = pd.concat([conv_mol_X, comp_xlogp[['xlogp']]], axis = 1)"
      ],
      "metadata": {
        "id": "49CegqL0lzlo"
      },
      "execution_count": null,
      "outputs": []
    },
    {
      "cell_type": "code",
      "source": [
        "conv_mol_X_y.dropna(subset = ['xlogp'], inplace = True)"
      ],
      "metadata": {
        "id": "w051y2HYmHFo"
      },
      "execution_count": null,
      "outputs": []
    },
    {
      "cell_type": "code",
      "source": [
        "conv_mol_X_y.head()"
      ],
      "metadata": {
        "colab": {
          "base_uri": "https://localhost:8080/",
          "height": 206
        },
        "collapsed": true,
        "id": "yyopEU6fmhDt",
        "outputId": "8c331d04-5aa9-4c07-96f3-490c42c87fd7"
      },
      "execution_count": null,
      "outputs": [
        {
          "output_type": "execute_result",
          "data": {
            "text/plain": [
              "                                             ConvMol    cid  xlogp\n",
              "0  <deepchem.feat.mol_graphs.ConvMol object at 0x...   7420    1.5\n",
              "1  <deepchem.feat.mol_graphs.ConvMol object at 0x...    996    1.5\n",
              "2  <deepchem.feat.mol_graphs.ConvMol object at 0x...  68289    1.2\n",
              "3  <deepchem.feat.mol_graphs.ConvMol object at 0x...   1060   -0.3\n",
              "4  <deepchem.feat.mol_graphs.ConvMol object at 0x...    176   -0.2"
            ],
            "text/html": [
              "\n",
              "  <div id=\"df-00008172-83f2-48db-90d4-6c03c633c300\">\n",
              "    <div class=\"colab-df-container\">\n",
              "      <div>\n",
              "<style scoped>\n",
              "    .dataframe tbody tr th:only-of-type {\n",
              "        vertical-align: middle;\n",
              "    }\n",
              "\n",
              "    .dataframe tbody tr th {\n",
              "        vertical-align: top;\n",
              "    }\n",
              "\n",
              "    .dataframe thead th {\n",
              "        text-align: right;\n",
              "    }\n",
              "</style>\n",
              "<table border=\"1\" class=\"dataframe\">\n",
              "  <thead>\n",
              "    <tr style=\"text-align: right;\">\n",
              "      <th></th>\n",
              "      <th>ConvMol</th>\n",
              "      <th>cid</th>\n",
              "      <th>xlogp</th>\n",
              "    </tr>\n",
              "  </thead>\n",
              "  <tbody>\n",
              "    <tr>\n",
              "      <th>0</th>\n",
              "      <td>&lt;deepchem.feat.mol_graphs.ConvMol object at 0x...</td>\n",
              "      <td>7420</td>\n",
              "      <td>1.5</td>\n",
              "    </tr>\n",
              "    <tr>\n",
              "      <th>1</th>\n",
              "      <td>&lt;deepchem.feat.mol_graphs.ConvMol object at 0x...</td>\n",
              "      <td>996</td>\n",
              "      <td>1.5</td>\n",
              "    </tr>\n",
              "    <tr>\n",
              "      <th>2</th>\n",
              "      <td>&lt;deepchem.feat.mol_graphs.ConvMol object at 0x...</td>\n",
              "      <td>68289</td>\n",
              "      <td>1.2</td>\n",
              "    </tr>\n",
              "    <tr>\n",
              "      <th>3</th>\n",
              "      <td>&lt;deepchem.feat.mol_graphs.ConvMol object at 0x...</td>\n",
              "      <td>1060</td>\n",
              "      <td>-0.3</td>\n",
              "    </tr>\n",
              "    <tr>\n",
              "      <th>4</th>\n",
              "      <td>&lt;deepchem.feat.mol_graphs.ConvMol object at 0x...</td>\n",
              "      <td>176</td>\n",
              "      <td>-0.2</td>\n",
              "    </tr>\n",
              "  </tbody>\n",
              "</table>\n",
              "</div>\n",
              "      <button class=\"colab-df-convert\" onclick=\"convertToInteractive('df-00008172-83f2-48db-90d4-6c03c633c300')\"\n",
              "              title=\"Convert this dataframe to an interactive table.\"\n",
              "              style=\"display:none;\">\n",
              "        \n",
              "  <svg xmlns=\"http://www.w3.org/2000/svg\" height=\"24px\"viewBox=\"0 0 24 24\"\n",
              "       width=\"24px\">\n",
              "    <path d=\"M0 0h24v24H0V0z\" fill=\"none\"/>\n",
              "    <path d=\"M18.56 5.44l.94 2.06.94-2.06 2.06-.94-2.06-.94-.94-2.06-.94 2.06-2.06.94zm-11 1L8.5 8.5l.94-2.06 2.06-.94-2.06-.94L8.5 2.5l-.94 2.06-2.06.94zm10 10l.94 2.06.94-2.06 2.06-.94-2.06-.94-.94-2.06-.94 2.06-2.06.94z\"/><path d=\"M17.41 7.96l-1.37-1.37c-.4-.4-.92-.59-1.43-.59-.52 0-1.04.2-1.43.59L10.3 9.45l-7.72 7.72c-.78.78-.78 2.05 0 2.83L4 21.41c.39.39.9.59 1.41.59.51 0 1.02-.2 1.41-.59l7.78-7.78 2.81-2.81c.8-.78.8-2.07 0-2.86zM5.41 20L4 18.59l7.72-7.72 1.47 1.35L5.41 20z\"/>\n",
              "  </svg>\n",
              "      </button>\n",
              "      \n",
              "  <style>\n",
              "    .colab-df-container {\n",
              "      display:flex;\n",
              "      flex-wrap:wrap;\n",
              "      gap: 12px;\n",
              "    }\n",
              "\n",
              "    .colab-df-convert {\n",
              "      background-color: #E8F0FE;\n",
              "      border: none;\n",
              "      border-radius: 50%;\n",
              "      cursor: pointer;\n",
              "      display: none;\n",
              "      fill: #1967D2;\n",
              "      height: 32px;\n",
              "      padding: 0 0 0 0;\n",
              "      width: 32px;\n",
              "    }\n",
              "\n",
              "    .colab-df-convert:hover {\n",
              "      background-color: #E2EBFA;\n",
              "      box-shadow: 0px 1px 2px rgba(60, 64, 67, 0.3), 0px 1px 3px 1px rgba(60, 64, 67, 0.15);\n",
              "      fill: #174EA6;\n",
              "    }\n",
              "\n",
              "    [theme=dark] .colab-df-convert {\n",
              "      background-color: #3B4455;\n",
              "      fill: #D2E3FC;\n",
              "    }\n",
              "\n",
              "    [theme=dark] .colab-df-convert:hover {\n",
              "      background-color: #434B5C;\n",
              "      box-shadow: 0px 1px 3px 1px rgba(0, 0, 0, 0.15);\n",
              "      filter: drop-shadow(0px 1px 2px rgba(0, 0, 0, 0.3));\n",
              "      fill: #FFFFFF;\n",
              "    }\n",
              "  </style>\n",
              "\n",
              "      <script>\n",
              "        const buttonEl =\n",
              "          document.querySelector('#df-00008172-83f2-48db-90d4-6c03c633c300 button.colab-df-convert');\n",
              "        buttonEl.style.display =\n",
              "          google.colab.kernel.accessAllowed ? 'block' : 'none';\n",
              "\n",
              "        async function convertToInteractive(key) {\n",
              "          const element = document.querySelector('#df-00008172-83f2-48db-90d4-6c03c633c300');\n",
              "          const dataTable =\n",
              "            await google.colab.kernel.invokeFunction('convertToInteractive',\n",
              "                                                     [key], {});\n",
              "          if (!dataTable) return;\n",
              "\n",
              "          const docLinkHtml = 'Like what you see? Visit the ' +\n",
              "            '<a target=\"_blank\" href=https://colab.research.google.com/notebooks/data_table.ipynb>data table notebook</a>'\n",
              "            + ' to learn more about interactive tables.';\n",
              "          element.innerHTML = '';\n",
              "          dataTable['output_type'] = 'display_data';\n",
              "          await google.colab.output.renderOutput(dataTable, element);\n",
              "          const docLink = document.createElement('div');\n",
              "          docLink.innerHTML = docLinkHtml;\n",
              "          element.appendChild(docLink);\n",
              "        }\n",
              "      </script>\n",
              "    </div>\n",
              "  </div>\n",
              "  "
            ]
          },
          "metadata": {},
          "execution_count": 19
        }
      ]
    },
    {
      "cell_type": "code",
      "source": [
        "comp_lkp_xlogp = pd.merge(comp_lkp,\n",
        "                          conv_mol_X_y,\n",
        "                          on = 'cid')"
      ],
      "metadata": {
        "id": "1dT6BHZXnzpl"
      },
      "execution_count": null,
      "outputs": []
    },
    {
      "cell_type": "code",
      "source": [
        "comp_lkp_xlogp.shape"
      ],
      "metadata": {
        "colab": {
          "base_uri": "https://localhost:8080/"
        },
        "id": "8_TYk2V_fWTL",
        "outputId": "ea268309-2a59-456e-917b-d3a9327915df"
      },
      "execution_count": null,
      "outputs": [
        {
          "output_type": "execute_result",
          "data": {
            "text/plain": [
              "(26, 9)"
            ]
          },
          "metadata": {},
          "execution_count": 21
        }
      ]
    },
    {
      "cell_type": "markdown",
      "source": [
        "### Delaney Dataset"
      ],
      "metadata": {
        "id": "bVS-Jz8uKDCC"
      }
    },
    {
      "cell_type": "code",
      "source": [
        "tasks, datasets, transformers = dc.molnet.load_delaney(featurizer='GraphConv')"
      ],
      "metadata": {
        "id": "Vq4Adqp3k1Ai"
      },
      "execution_count": null,
      "outputs": []
    },
    {
      "cell_type": "code",
      "source": [
        "train, _, _ = datasets"
      ],
      "metadata": {
        "id": "krmv5HJ3k39Y"
      },
      "execution_count": null,
      "outputs": []
    },
    {
      "cell_type": "code",
      "source": [
        "train_smiles = list(train.ids)"
      ],
      "metadata": {
        "id": "3iLUb6MzJ9mZ"
      },
      "execution_count": null,
      "outputs": []
    },
    {
      "cell_type": "code",
      "source": [
        "help(pcp.get_compounds)"
      ],
      "metadata": {
        "colab": {
          "base_uri": "https://localhost:8080/"
        },
        "id": "J2-MrPluKyGI",
        "outputId": "908898e8-dfed-4775-a82f-9ced5cc27a0a"
      },
      "execution_count": null,
      "outputs": [
        {
          "output_type": "stream",
          "name": "stdout",
          "text": [
            "Help on function get_compounds in module pubchempy:\n",
            "\n",
            "get_compounds(identifier, namespace='cid', searchtype=None, as_dataframe=False, **kwargs)\n",
            "    Retrieve the specified compound records from PubChem.\n",
            "    \n",
            "    :param identifier: The compound identifier to use as a search query.\n",
            "    :param namespace: (optional) The identifier type, one of cid, name, smiles, sdf, inchi, inchikey or formula.\n",
            "    :param searchtype: (optional) The advanced search type, one of substructure, superstructure or similarity.\n",
            "    :param as_dataframe: (optional) Automatically extract the :class:`~pubchempy.Compound` properties into a pandas\n",
            "                         :class:`~pandas.DataFrame` and return that.\n",
            "\n"
          ]
        }
      ]
    },
    {
      "cell_type": "code",
      "source": [
        "(900)/60"
      ],
      "metadata": {
        "colab": {
          "base_uri": "https://localhost:8080/"
        },
        "id": "p3tNhVVcjMeF",
        "outputId": "d9aa2c0e-d620-4f9d-e1e6-373984941ca7"
      },
      "execution_count": null,
      "outputs": [
        {
          "output_type": "execute_result",
          "data": {
            "text/plain": [
              "15.0"
            ]
          },
          "metadata": {},
          "execution_count": 29
        }
      ]
    },
    {
      "cell_type": "code",
      "source": [
        "pcp_train_comps = []\n",
        "for i, smile in enumerate(train_smiles):\n",
        "  #sleep(0.1)\n",
        "  pcp_train_comps.append(pcp.get_compounds(smile, namespace = 'smiles')[0])\n",
        "  if (i+1) % 50 == 0:\n",
        "    print(f'Voy por el nro: {i+1}')"
      ],
      "metadata": {
        "colab": {
          "base_uri": "https://localhost:8080/"
        },
        "collapsed": true,
        "id": "-5atcAA4KUct",
        "outputId": "684179f0-8458-4963-cbb5-5fc5d6d178b1"
      },
      "execution_count": null,
      "outputs": [
        {
          "output_type": "stream",
          "name": "stdout",
          "text": [
            "Voy por el nro: 50\n",
            "Voy por el nro: 100\n",
            "Voy por el nro: 150\n",
            "Voy por el nro: 200\n",
            "Voy por el nro: 250\n",
            "Voy por el nro: 300\n",
            "Voy por el nro: 350\n",
            "Voy por el nro: 400\n",
            "Voy por el nro: 450\n",
            "Voy por el nro: 500\n",
            "Voy por el nro: 550\n",
            "Voy por el nro: 600\n",
            "Voy por el nro: 650\n",
            "Voy por el nro: 700\n",
            "Voy por el nro: 750\n",
            "Voy por el nro: 800\n",
            "Voy por el nro: 850\n",
            "Voy por el nro: 900\n"
          ]
        }
      ]
    },
    {
      "cell_type": "code",
      "source": [
        "pcp_train_comps[:4]"
      ],
      "metadata": {
        "colab": {
          "base_uri": "https://localhost:8080/"
        },
        "id": "valcNrdVlcv3",
        "outputId": "59c500fb-37a4-44af-cdbe-231b09b1a2d1"
      },
      "execution_count": null,
      "outputs": [
        {
          "output_type": "execute_result",
          "data": {
            "text/plain": [
              "[Compound(8843), Compound(8004), Compound(12389), Compound(6361)]"
            ]
          },
          "metadata": {},
          "execution_count": 32
        }
      ]
    },
    {
      "cell_type": "code",
      "source": [
        "[c.cid for c in pcp_train_comps][:5]"
      ],
      "metadata": {
        "colab": {
          "base_uri": "https://localhost:8080/"
        },
        "id": "aJ2oWKLhllyX",
        "outputId": "1ebf262e-e8a0-43be-d256-c279bf957153"
      },
      "execution_count": null,
      "outputs": [
        {
          "output_type": "execute_result",
          "data": {
            "text/plain": [
              "[8843, 8004, 12389, 6361, 8723]"
            ]
          },
          "metadata": {},
          "execution_count": 36
        }
      ]
    },
    {
      "cell_type": "code",
      "source": [
        "train_dict = {'smiles' : train_smiles\n",
        "              ,'X' : train.X\n",
        "              ,'cid' : [c.cid for c in pcp_train_comps]\n",
        "              ,'pcp_comp' : pcp_train_comps\n",
        "              ,'y' : train.y.squeeze()\n",
        "              ,'xlogp': [c.xlogp for c in pcp_train_comps]\n",
        "              }"
      ],
      "metadata": {
        "id": "b6FjkALQlphO"
      },
      "execution_count": null,
      "outputs": []
    },
    {
      "cell_type": "code",
      "source": [
        "train_df = pd.DataFrame(train_dict)"
      ],
      "metadata": {
        "id": "t6T8y5v2nO2Z"
      },
      "execution_count": null,
      "outputs": []
    },
    {
      "cell_type": "code",
      "source": [
        "with open(os.path.join(paper_dir,'delaney_datasets','train_dict.pkl'),'wb') as fp:\n",
        "  dill.dump(train_df, fp)"
      ],
      "metadata": {
        "id": "M7kScleQj-Cy"
      },
      "execution_count": null,
      "outputs": []
    },
    {
      "cell_type": "code",
      "source": [
        "from sklearn.linear_model import LinearRegression"
      ],
      "metadata": {
        "id": "zq4imrtMmJ-a"
      },
      "execution_count": null,
      "outputs": []
    },
    {
      "cell_type": "code",
      "source": [
        "train_df.dropna(subset = ['xlogp'], inplace = True)"
      ],
      "metadata": {
        "id": "WWQIh8GqogZe"
      },
      "execution_count": null,
      "outputs": []
    },
    {
      "cell_type": "code",
      "source": [
        "# Relacion entre xlogp de pubchem y la \"y\" de deepchem\n",
        "_ = plt.scatter(train_df['y'], train_df['xlogp'])\n",
        "plt.grid()"
      ],
      "metadata": {
        "colab": {
          "base_uri": "https://localhost:8080/",
          "height": 265
        },
        "id": "Dao2i2szk4j6",
        "outputId": "d2a16c8f-ca8d-4f40-819a-fa634e53ec1c"
      },
      "execution_count": null,
      "outputs": [
        {
          "output_type": "display_data",
          "data": {
            "text/plain": [
              "<Figure size 432x288 with 1 Axes>"
            ],
            "image/png": "[encoded data removed]"
          },
          "metadata": {
            "needs_background": "light"
          }
        }
      ]
    },
    {
      "cell_type": "code",
      "source": [
        "train_df.xlogp.values.shape"
      ],
      "metadata": {
        "colab": {
          "base_uri": "https://localhost:8080/"
        },
        "id": "RihEdyjjo3i2",
        "outputId": "11aab20b-37cd-44c4-ce89-308c87d4cf31"
      },
      "execution_count": null,
      "outputs": [
        {
          "output_type": "execute_result",
          "data": {
            "text/plain": [
              "(897,)"
            ]
          },
          "metadata": {},
          "execution_count": 94
        }
      ]
    },
    {
      "cell_type": "code",
      "source": [
        "y_column = np.expand_dims(train_df.y.values, 1)\n",
        "xlogp_column = np.expand_dims(train_df.xlogp.values, 1)"
      ],
      "metadata": {
        "id": "666HpDNOpCh4"
      },
      "execution_count": null,
      "outputs": []
    },
    {
      "cell_type": "code",
      "source": [
        "lm = LinearRegression().fit(y_column,\n",
        "                            xlogp_column)"
      ],
      "metadata": {
        "id": "HwPO5hMIm-4T"
      },
      "execution_count": null,
      "outputs": []
    },
    {
      "cell_type": "code",
      "source": [
        "lm.coef_[0], lm.intercept_[0]"
      ],
      "metadata": {
        "colab": {
          "base_uri": "https://localhost:8080/"
        },
        "id": "bEQ25KiUpcY5",
        "outputId": "3d289400-3e30-40a2-d00a-1748145d6c1d"
      },
      "execution_count": null,
      "outputs": [
        {
          "output_type": "execute_result",
          "data": {
            "text/plain": [
              "(array([-1.64527977]), 2.655742322306653)"
            ]
          },
          "metadata": {},
          "execution_count": 102
        }
      ]
    },
    {
      "cell_type": "code",
      "source": [
        "train_df.head()"
      ],
      "metadata": {
        "colab": {
          "base_uri": "https://localhost:8080/",
          "height": 206
        },
        "id": "SezqthaBtImV",
        "outputId": "85686e58-ec23-4c36-aa15-17e537570113"
      },
      "execution_count": null,
      "outputs": [
        {
          "output_type": "execute_result",
          "data": {
            "text/plain": [
              "                 smiles                                                  X  \\\n",
              "0  CC(C)=CCCC(C)=CC(=O)  <deepchem.feat.mol_graphs.ConvMol object at 0x...   \n",
              "1                CCCC=C  <deepchem.feat.mol_graphs.ConvMol object at 0x...   \n",
              "2        CCCCCCCCCCCCCC  <deepchem.feat.mol_graphs.ConvMol object at 0x...   \n",
              "3               CC(C)Cl  <deepchem.feat.mol_graphs.ConvMol object at 0x...   \n",
              "4              CCC(C)CO  <deepchem.feat.mol_graphs.ConvMol object at 0x...   \n",
              "\n",
              "       cid         pcp_comp         y  xlogp  \n",
              "0   8843.0   Compound(8843)  0.390413    3.0  \n",
              "1   8004.0   Compound(8004)  0.090421    2.4  \n",
              "2  12389.0  Compound(12389) -2.464346    7.2  \n",
              "3   6361.0   Compound(6361)  0.704920    1.6  \n",
              "4   8723.0   Compound(8723)  1.159746    1.2  "
            ],
            "text/html": [
              "\n",
              "  <div id=\"df-bcc62429-6f46-4c5b-bc4f-e873a6c1f7c5\">\n",
              "    <div class=\"colab-df-container\">\n",
              "      <div>\n",
              "<style scoped>\n",
              "    .dataframe tbody tr th:only-of-type {\n",
              "        vertical-align: middle;\n",
              "    }\n",
              "\n",
              "    .dataframe tbody tr th {\n",
              "        vertical-align: top;\n",
              "    }\n",
              "\n",
              "    .dataframe thead th {\n",
              "        text-align: right;\n",
              "    }\n",
              "</style>\n",
              "<table border=\"1\" class=\"dataframe\">\n",
              "  <thead>\n",
              "    <tr style=\"text-align: right;\">\n",
              "      <th></th>\n",
              "      <th>smiles</th>\n",
              "      <th>X</th>\n",
              "      <th>cid</th>\n",
              "      <th>pcp_comp</th>\n",
              "      <th>y</th>\n",
              "      <th>xlogp</th>\n",
              "    </tr>\n",
              "  </thead>\n",
              "  <tbody>\n",
              "    <tr>\n",
              "      <th>0</th>\n",
              "      <td>CC(C)=CCCC(C)=CC(=O)</td>\n",
              "      <td>&lt;deepchem.feat.mol_graphs.ConvMol object at 0x...</td>\n",
              "      <td>8843.0</td>\n",
              "      <td>Compound(8843)</td>\n",
              "      <td>0.390413</td>\n",
              "      <td>3.0</td>\n",
              "    </tr>\n",
              "    <tr>\n",
              "      <th>1</th>\n",
              "      <td>CCCC=C</td>\n",
              "      <td>&lt;deepchem.feat.mol_graphs.ConvMol object at 0x...</td>\n",
              "      <td>8004.0</td>\n",
              "      <td>Compound(8004)</td>\n",
              "      <td>0.090421</td>\n",
              "      <td>2.4</td>\n",
              "    </tr>\n",
              "    <tr>\n",
              "      <th>2</th>\n",
              "      <td>CCCCCCCCCCCCCC</td>\n",
              "      <td>&lt;deepchem.feat.mol_graphs.ConvMol object at 0x...</td>\n",
              "      <td>12389.0</td>\n",
              "      <td>Compound(12389)</td>\n",
              "      <td>-2.464346</td>\n",
              "      <td>7.2</td>\n",
              "    </tr>\n",
              "    <tr>\n",
              "      <th>3</th>\n",
              "      <td>CC(C)Cl</td>\n",
              "      <td>&lt;deepchem.feat.mol_graphs.ConvMol object at 0x...</td>\n",
              "      <td>6361.0</td>\n",
              "      <td>Compound(6361)</td>\n",
              "      <td>0.704920</td>\n",
              "      <td>1.6</td>\n",
              "    </tr>\n",
              "    <tr>\n",
              "      <th>4</th>\n",
              "      <td>CCC(C)CO</td>\n",
              "      <td>&lt;deepchem.feat.mol_graphs.ConvMol object at 0x...</td>\n",
              "      <td>8723.0</td>\n",
              "      <td>Compound(8723)</td>\n",
              "      <td>1.159746</td>\n",
              "      <td>1.2</td>\n",
              "    </tr>\n",
              "  </tbody>\n",
              "</table>\n",
              "</div>\n",
              "      <button class=\"colab-df-convert\" onclick=\"convertToInteractive('df-bcc62429-6f46-4c5b-bc4f-e873a6c1f7c5')\"\n",
              "              title=\"Convert this dataframe to an interactive table.\"\n",
              "              style=\"display:none;\">\n",
              "        \n",
              "  <svg xmlns=\"http://www.w3.org/2000/svg\" height=\"24px\"viewBox=\"0 0 24 24\"\n",
              "       width=\"24px\">\n",
              "    <path d=\"M0 0h24v24H0V0z\" fill=\"none\"/>\n",
              "    <path d=\"M18.56 5.44l.94 2.06.94-2.06 2.06-.94-2.06-.94-.94-2.06-.94 2.06-2.06.94zm-11 1L8.5 8.5l.94-2.06 2.06-.94-2.06-.94L8.5 2.5l-.94 2.06-2.06.94zm10 10l.94 2.06.94-2.06 2.06-.94-2.06-.94-.94-2.06-.94 2.06-2.06.94z\"/><path d=\"M17.41 7.96l-1.37-1.37c-.4-.4-.92-.59-1.43-.59-.52 0-1.04.2-1.43.59L10.3 9.45l-7.72 7.72c-.78.78-.78 2.05 0 2.83L4 21.41c.39.39.9.59 1.41.59.51 0 1.02-.2 1.41-.59l7.78-7.78 2.81-2.81c.8-.78.8-2.07 0-2.86zM5.41 20L4 18.59l7.72-7.72 1.47 1.35L5.41 20z\"/>\n",
              "  </svg>\n",
              "      </button>\n",
              "      \n",
              "  <style>\n",
              "    .colab-df-container {\n",
              "      display:flex;\n",
              "      flex-wrap:wrap;\n",
              "      gap: 12px;\n",
              "    }\n",
              "\n",
              "    .colab-df-convert {\n",
              "      background-color: #E8F0FE;\n",
              "      border: none;\n",
              "      border-radius: 50%;\n",
              "      cursor: pointer;\n",
              "      display: none;\n",
              "      fill: #1967D2;\n",
              "      height: 32px;\n",
              "      padding: 0 0 0 0;\n",
              "      width: 32px;\n",
              "    }\n",
              "\n",
              "    .colab-df-convert:hover {\n",
              "      background-color: #E2EBFA;\n",
              "      box-shadow: 0px 1px 2px rgba(60, 64, 67, 0.3), 0px 1px 3px 1px rgba(60, 64, 67, 0.15);\n",
              "      fill: #174EA6;\n",
              "    }\n",
              "\n",
              "    [theme=dark] .colab-df-convert {\n",
              "      background-color: #3B4455;\n",
              "      fill: #D2E3FC;\n",
              "    }\n",
              "\n",
              "    [theme=dark] .colab-df-convert:hover {\n",
              "      background-color: #434B5C;\n",
              "      box-shadow: 0px 1px 3px 1px rgba(0, 0, 0, 0.15);\n",
              "      filter: drop-shadow(0px 1px 2px rgba(0, 0, 0, 0.3));\n",
              "      fill: #FFFFFF;\n",
              "    }\n",
              "  </style>\n",
              "\n",
              "      <script>\n",
              "        const buttonEl =\n",
              "          document.querySelector('#df-bcc62429-6f46-4c5b-bc4f-e873a6c1f7c5 button.colab-df-convert');\n",
              "        buttonEl.style.display =\n",
              "          google.colab.kernel.accessAllowed ? 'block' : 'none';\n",
              "\n",
              "        async function convertToInteractive(key) {\n",
              "          const element = document.querySelector('#df-bcc62429-6f46-4c5b-bc4f-e873a6c1f7c5');\n",
              "          const dataTable =\n",
              "            await google.colab.kernel.invokeFunction('convertToInteractive',\n",
              "                                                     [key], {});\n",
              "          if (!dataTable) return;\n",
              "\n",
              "          const docLinkHtml = 'Like what you see? Visit the ' +\n",
              "            '<a target=\"_blank\" href=https://colab.research.google.com/notebooks/data_table.ipynb>data table notebook</a>'\n",
              "            + ' to learn more about interactive tables.';\n",
              "          element.innerHTML = '';\n",
              "          dataTable['output_type'] = 'display_data';\n",
              "          await google.colab.output.renderOutput(dataTable, element);\n",
              "          const docLink = document.createElement('div');\n",
              "          docLink.innerHTML = docLinkHtml;\n",
              "          element.appendChild(docLink);\n",
              "        }\n",
              "      </script>\n",
              "    </div>\n",
              "  </div>\n",
              "  "
            ]
          },
          "metadata": {},
          "execution_count": 103
        }
      ]
    },
    {
      "cell_type": "code",
      "source": [
        "lm.predict(y_column).shape"
      ],
      "metadata": {
        "colab": {
          "base_uri": "https://localhost:8080/"
        },
        "id": "k_rbQ64htTbc",
        "outputId": "c32e2a86-0926-4584-8157-5bf5c6c5e05f"
      },
      "execution_count": null,
      "outputs": [
        {
          "output_type": "execute_result",
          "data": {
            "text/plain": [
              "(897, 1)"
            ]
          },
          "metadata": {},
          "execution_count": 106
        }
      ]
    },
    {
      "cell_type": "code",
      "source": [
        "data_dir = os.path.join(paper_dir, 'delaney_deepchem_dataset_pcp_xlogp')\n",
        "X = train_df.X.values\n",
        "y = train_df.xlogp.values #lm.predict(y_column).squeeze()\n",
        "\n",
        "delaney_dataset = dc.data.DiskDataset.from_numpy(X=X, y=y, data_dir=data_dir)"
      ],
      "metadata": {
        "id": "fjannvPAs5BL"
      },
      "execution_count": null,
      "outputs": []
    },
    {
      "cell_type": "code",
      "source": [
        "comp_lkp_xlogp.sample()"
      ],
      "metadata": {
        "colab": {
          "base_uri": "https://localhost:8080/",
          "height": 179
        },
        "id": "_OD_EBB2wNYs",
        "outputId": "5dd802eb-3b00-4bc7-b68d-09a4b8c6179b"
      },
      "execution_count": null,
      "outputs": [
        {
          "output_type": "execute_result",
          "data": {
            "text/plain": [
              "  compound_name_in_article         comps_list  list_len  \\\n",
              "2                  Sesamol  [Compound(68289)]         1   \n",
              "\n",
              "        canonical_smiles    cid            iupac_name molecular_formula  \\\n",
              "2  C1OC2=C(O1)C=C(C=C2)O  68289  1,3-benzodioxol-5-ol            C7H6O3   \n",
              "\n",
              "                                             ConvMol  xlogp  \n",
              "2  <deepchem.feat.mol_graphs.ConvMol object at 0x...    1.2  "
            ],
            "text/html": [
              "\n",
              "  <div id=\"df-a9cb22b1-1c0e-4f4b-a409-923c8802457c\">\n",
              "    <div class=\"colab-df-container\">\n",
              "      <div>\n",
              "<style scoped>\n",
              "    .dataframe tbody tr th:only-of-type {\n",
              "        vertical-align: middle;\n",
              "    }\n",
              "\n",
              "    .dataframe tbody tr th {\n",
              "        vertical-align: top;\n",
              "    }\n",
              "\n",
              "    .dataframe thead th {\n",
              "        text-align: right;\n",
              "    }\n",
              "</style>\n",
              "<table border=\"1\" class=\"dataframe\">\n",
              "  <thead>\n",
              "    <tr style=\"text-align: right;\">\n",
              "      <th></th>\n",
              "      <th>compound_name_in_article</th>\n",
              "      <th>comps_list</th>\n",
              "      <th>list_len</th>\n",
              "      <th>canonical_smiles</th>\n",
              "      <th>cid</th>\n",
              "      <th>iupac_name</th>\n",
              "      <th>molecular_formula</th>\n",
              "      <th>ConvMol</th>\n",
              "      <th>xlogp</th>\n",
              "    </tr>\n",
              "  </thead>\n",
              "  <tbody>\n",
              "    <tr>\n",
              "      <th>2</th>\n",
              "      <td>Sesamol</td>\n",
              "      <td>[Compound(68289)]</td>\n",
              "      <td>1</td>\n",
              "      <td>C1OC2=C(O1)C=C(C=C2)O</td>\n",
              "      <td>68289</td>\n",
              "      <td>1,3-benzodioxol-5-ol</td>\n",
              "      <td>C7H6O3</td>\n",
              "      <td>&lt;deepchem.feat.mol_graphs.ConvMol object at 0x...</td>\n",
              "      <td>1.2</td>\n",
              "    </tr>\n",
              "  </tbody>\n",
              "</table>\n",
              "</div>\n",
              "      <button class=\"colab-df-convert\" onclick=\"convertToInteractive('df-a9cb22b1-1c0e-4f4b-a409-923c8802457c')\"\n",
              "              title=\"Convert this dataframe to an interactive table.\"\n",
              "              style=\"display:none;\">\n",
              "        \n",
              "  <svg xmlns=\"http://www.w3.org/2000/svg\" height=\"24px\"viewBox=\"0 0 24 24\"\n",
              "       width=\"24px\">\n",
              "    <path d=\"M0 0h24v24H0V0z\" fill=\"none\"/>\n",
              "    <path d=\"M18.56 5.44l.94 2.06.94-2.06 2.06-.94-2.06-.94-.94-2.06-.94 2.06-2.06.94zm-11 1L8.5 8.5l.94-2.06 2.06-.94-2.06-.94L8.5 2.5l-.94 2.06-2.06.94zm10 10l.94 2.06.94-2.06 2.06-.94-2.06-.94-.94-2.06-.94 2.06-2.06.94z\"/><path d=\"M17.41 7.96l-1.37-1.37c-.4-.4-.92-.59-1.43-.59-.52 0-1.04.2-1.43.59L10.3 9.45l-7.72 7.72c-.78.78-.78 2.05 0 2.83L4 21.41c.39.39.9.59 1.41.59.51 0 1.02-.2 1.41-.59l7.78-7.78 2.81-2.81c.8-.78.8-2.07 0-2.86zM5.41 20L4 18.59l7.72-7.72 1.47 1.35L5.41 20z\"/>\n",
              "  </svg>\n",
              "      </button>\n",
              "      \n",
              "  <style>\n",
              "    .colab-df-container {\n",
              "      display:flex;\n",
              "      flex-wrap:wrap;\n",
              "      gap: 12px;\n",
              "    }\n",
              "\n",
              "    .colab-df-convert {\n",
              "      background-color: #E8F0FE;\n",
              "      border: none;\n",
              "      border-radius: 50%;\n",
              "      cursor: pointer;\n",
              "      display: none;\n",
              "      fill: #1967D2;\n",
              "      height: 32px;\n",
              "      padding: 0 0 0 0;\n",
              "      width: 32px;\n",
              "    }\n",
              "\n",
              "    .colab-df-convert:hover {\n",
              "      background-color: #E2EBFA;\n",
              "      box-shadow: 0px 1px 2px rgba(60, 64, 67, 0.3), 0px 1px 3px 1px rgba(60, 64, 67, 0.15);\n",
              "      fill: #174EA6;\n",
              "    }\n",
              "\n",
              "    [theme=dark] .colab-df-convert {\n",
              "      background-color: #3B4455;\n",
              "      fill: #D2E3FC;\n",
              "    }\n",
              "\n",
              "    [theme=dark] .colab-df-convert:hover {\n",
              "      background-color: #434B5C;\n",
              "      box-shadow: 0px 1px 3px 1px rgba(0, 0, 0, 0.15);\n",
              "      filter: drop-shadow(0px 1px 2px rgba(0, 0, 0, 0.3));\n",
              "      fill: #FFFFFF;\n",
              "    }\n",
              "  </style>\n",
              "\n",
              "      <script>\n",
              "        const buttonEl =\n",
              "          document.querySelector('#df-a9cb22b1-1c0e-4f4b-a409-923c8802457c button.colab-df-convert');\n",
              "        buttonEl.style.display =\n",
              "          google.colab.kernel.accessAllowed ? 'block' : 'none';\n",
              "\n",
              "        async function convertToInteractive(key) {\n",
              "          const element = document.querySelector('#df-a9cb22b1-1c0e-4f4b-a409-923c8802457c');\n",
              "          const dataTable =\n",
              "            await google.colab.kernel.invokeFunction('convertToInteractive',\n",
              "                                                     [key], {});\n",
              "          if (!dataTable) return;\n",
              "\n",
              "          const docLinkHtml = 'Like what you see? Visit the ' +\n",
              "            '<a target=\"_blank\" href=https://colab.research.google.com/notebooks/data_table.ipynb>data table notebook</a>'\n",
              "            + ' to learn more about interactive tables.';\n",
              "          element.innerHTML = '';\n",
              "          dataTable['output_type'] = 'display_data';\n",
              "          await google.colab.output.renderOutput(dataTable, element);\n",
              "          const docLink = document.createElement('div');\n",
              "          docLink.innerHTML = docLinkHtml;\n",
              "          element.appendChild(docLink);\n",
              "        }\n",
              "      </script>\n",
              "    </div>\n",
              "  </div>\n",
              "  "
            ]
          },
          "metadata": {},
          "execution_count": 114
        }
      ]
    },
    {
      "cell_type": "code",
      "source": [
        "data_dir = os.path.join(paper_dir, 'visc_deepchem_dataset_pcp_xlogp')\n",
        "X = comp_lkp_xlogp.ConvMol\n",
        "y = comp_lkp_xlogp.xlogp\n",
        "\n",
        "visc_dataset = dc.data.DiskDataset.from_numpy(X=X, y=y, data_dir=data_dir)"
      ],
      "metadata": {
        "id": "8I1h9BIjv0yt"
      },
      "execution_count": null,
      "outputs": []
    },
    {
      "cell_type": "code",
      "source": [
        ""
      ],
      "metadata": {
        "id": "xgIwuVyAv1jh"
      },
      "execution_count": null,
      "outputs": []
    },
    {
      "cell_type": "code",
      "source": [
        ""
      ],
      "metadata": {
        "id": "Oj1H8Fn4v1q3"
      },
      "execution_count": null,
      "outputs": []
    },
    {
      "cell_type": "code",
      "source": [
        "plt.hist(delaney_dataset.y)"
      ],
      "metadata": {
        "colab": {
          "base_uri": "https://localhost:8080/",
          "height": 334
        },
        "id": "6RwqI-TIgLrs",
        "outputId": "72a82ebf-5d92-40e2-f007-7d233d34dc42"
      },
      "execution_count": null,
      "outputs": [
        {
          "output_type": "execute_result",
          "data": {
            "text/plain": [
              "(array([  8.,  33., 190., 363., 208.,  69.,  21.,   3.,   1.,   1.]),\n",
              " array([-3.7 , -1.96, -0.22,  1.52,  3.26,  5.  ,  6.74,  8.48, 10.22,\n",
              "        11.96, 13.7 ]),\n",
              " <a list of 10 Patch objects>)"
            ]
          },
          "metadata": {},
          "execution_count": 108
        },
        {
          "output_type": "display_data",
          "data": {
            "text/plain": [
              "<Figure size 432x288 with 1 Axes>"
            ],
            "image/png": "[encoded data removed]"
          },
          "metadata": {
            "needs_background": "light"
          }
        }
      ]
    },
    {
      "cell_type": "code",
      "source": [
        "_ = plt.hist(comp_lkp_xlogp.xlogp)\n",
        "plt.xlim(-3.5, 13.5)"
      ],
      "metadata": {
        "colab": {
          "base_uri": "https://localhost:8080/",
          "height": 282
        },
        "id": "WlprxE5RhWTF",
        "outputId": "a201a3cc-8c03-451a-e420-69a6b0d0049d"
      },
      "execution_count": null,
      "outputs": [
        {
          "output_type": "execute_result",
          "data": {
            "text/plain": [
              "(-3.5, 13.5)"
            ]
          },
          "metadata": {},
          "execution_count": 111
        },
        {
          "output_type": "display_data",
          "data": {
            "text/plain": [
              "<Figure size 432x288 with 1 Axes>"
            ],
            "image/png": "[encoded data removed]"
          },
          "metadata": {
            "needs_background": "light"
          }
        }
      ]
    },
    {
      "cell_type": "code",
      "source": [
        "data_dir = os.path.join(paper_dir, 'deepchem_dataset')\n",
        "X = comp_lkp_xlogp.ConvMol.values\n",
        "y = comp_lkp_xlogp.xlogp\n",
        "visc_dataset = dc.data.DiskDataset.from_numpy(X=X, y=y, data_dir=data_dir)"
      ],
      "metadata": {
        "id": "LPc9os_4kR9W"
      },
      "execution_count": null,
      "outputs": []
    },
    {
      "cell_type": "code",
      "source": [
        "tasks, datasets, transformers = dc.molnet.load_delaney(featurizer='GraphConv')\n",
        "train_dataset, valid_dataset, test_dataset = datasets"
      ],
      "metadata": {
        "id": "AX36H6ClCqpY"
      },
      "execution_count": null,
      "outputs": []
    },
    {
      "cell_type": "code",
      "source": [
        "datasets"
      ],
      "metadata": {
        "colab": {
          "base_uri": "https://localhost:8080/"
        },
        "id": "UvpC_CY7C7wP",
        "outputId": "5b3a635f-f052-43d3-984a-5953610e1ea8"
      },
      "execution_count": null,
      "outputs": [
        {
          "output_type": "execute_result",
          "data": {
            "text/plain": [
              "(<DiskDataset X.shape: (902,), y.shape: (902, 1), w.shape: (902, 1), ids: ['CC(C)=CCCC(C)=CC(=O)' 'CCCC=C' 'CCCCCCCCCCCCCC' ...\n",
              "  'Nc2cccc3nc1ccccc1cc23 ' 'C1CCCCCC1' 'OC1CCCCCC1'], task_names: ['measured log solubility in mols per litre']>,\n",
              " <DiskDataset X.shape: (113,), y.shape: (113, 1), w.shape: (113, 1), ids: ['Nc1ncnc2nc[nH]c12 ' 'Nc1nc(O)nc2nc[nH]c12 '\n",
              "  'Fc1cccc(F)c1C(=O)NC(=O)Nc2cc(Cl)c(F)c(Cl)c2F ' ...\n",
              "  'OC(Cn1cncn1)(Cn2cncn2)c3ccc(F)cc3F '\n",
              "  'FC(F)(F)c1cccc(c1)N2CC(CCl)C(Cl)C2=O' 'CC1(C)CON(Cc2ccccc2Cl)C1=O'], task_names: ['measured log solubility in mols per litre']>,\n",
              " <DiskDataset X.shape: (113,), y.shape: (113, 1), w.shape: (113, 1), ids: ['c1cc2ccc3cccc4ccc(c1)c2c34' 'Cc1cc(=O)[nH]c(=S)[nH]1'\n",
              "  'Oc1ccc(cc1)C2(OC(=O)c3ccccc23)c4ccc(O)cc4 ' ...\n",
              "  'c1ccc2c(c1)ccc3c2ccc4c5ccccc5ccc43' 'Cc1occc1C(=O)Nc2ccccc2'\n",
              "  'OCC3OC(OCC2OC(OC(C#N)c1ccccc1)C(O)C(O)C2O)C(O)C(O)C3O '], task_names: ['measured log solubility in mols per litre']>)"
            ]
          },
          "metadata": {},
          "execution_count": 118
        }
      ]
    },
    {
      "cell_type": "code",
      "source": [
        "#n_tasks = len(tasks)\n",
        "model = dc.models.GraphConvModel(n_tasks = 1, mode='regression')"
      ],
      "metadata": {
        "collapsed": true,
        "id": "dWpJapMin5eM"
      },
      "execution_count": null,
      "outputs": []
    },
    {
      "cell_type": "code",
      "source": [
        "model.fit(delaney_dataset, nb_epoch=100)"
      ],
      "metadata": {
        "colab": {
          "base_uri": "https://localhost:8080/"
        },
        "collapsed": true,
        "id": "1yM-DkibFWdI",
        "outputId": "b64d4a90-2558-46c8-90aa-60f89ef02b8d"
      },
      "execution_count": null,
      "outputs": [
        {
          "output_type": "execute_result",
          "data": {
            "text/plain": [
              "0.051391077041625974"
            ]
          },
          "metadata": {},
          "execution_count": 119
        }
      ]
    },
    {
      "cell_type": "code",
      "source": [
        "metric = dc.metrics.Metric(dc.metrics.pearson_r2_score)\n",
        "print('training set score:', model.evaluate(delaney_dataset, [metric]))\n",
        "print('test set score:', model.evaluate(visc_dataset, [metric]))"
      ],
      "metadata": {
        "colab": {
          "base_uri": "https://localhost:8080/"
        },
        "id": "7fy6SVn7DYsp",
        "outputId": "e715fd36-3412-4408-d902-2871dcf8228b"
      },
      "execution_count": null,
      "outputs": [
        {
          "output_type": "stream",
          "name": "stdout",
          "text": [
            "training set score: {'pearson_r2_score': 0.9926120422211057}\n",
            "test set score: {'pearson_r2_score': 0.7935199875408895}\n"
          ]
        }
      ]
    },
    {
      "cell_type": "code",
      "source": [
        "# Despues de 1 epochs\n",
        "_ = plt.scatter(visc_dataset.y, model.predict(visc_dataset))\n",
        "plt.xlabel('True XlogP')\n",
        "plt.ylabel('Predicted XlogP')\n",
        "#plt.xlim(-1, 10)\n",
        "#plt.ylim(-1, 10)\n",
        "plt.plot([-1, 8],[-1, 8], color = 'black')\n",
        "plt.grid()"
      ],
      "metadata": {
        "colab": {
          "base_uri": "https://localhost:8080/",
          "height": 279
        },
        "id": "HBr_s7H1Df4t",
        "outputId": "9522cdd2-ffa0-48f0-a070-867539e11cc2"
      },
      "execution_count": null,
      "outputs": [
        {
          "output_type": "display_data",
          "data": {
            "text/plain": [
              "<Figure size 432x288 with 1 Axes>"
            ],
            "image/png": "[encoded data removed]"
          },
          "metadata": {
            "needs_background": "light"
          }
        }
      ]
    },
    {
      "cell_type": "code",
      "source": [
        "model.fit(disk_dataset, nb_epoch=50)"
      ],
      "metadata": {
        "colab": {
          "base_uri": "https://localhost:8080/"
        },
        "id": "tD7uw8LDqKDu",
        "outputId": "a2d9a7ee-eecf-4eaf-a41b-e007c348badd"
      },
      "execution_count": null,
      "outputs": [
        {
          "output_type": "execute_result",
          "data": {
            "text/plain": [
              "0.004550777971744537"
            ]
          },
          "metadata": {},
          "execution_count": 91
        }
      ]
    },
    {
      "cell_type": "code",
      "source": [
        "comp_lkp_xlogp.xlogp.values"
      ],
      "metadata": {
        "colab": {
          "base_uri": "https://localhost:8080/"
        },
        "id": "uVVHz3BYEWUs",
        "outputId": "e17a9cef-87e6-444b-ac53-679529b3d56f"
      },
      "execution_count": null,
      "outputs": [
        {
          "output_type": "execute_result",
          "data": {
            "text/plain": [
              "array([ 1.5,  1.5,  1.2, -0.3, -0.2, -0.7,  3.5,  0.3,  3.3,  0.7,  3. ,\n",
              "        3. ,  3. ,  3.5,  6.5,  4.1,  4.2,  5.3,  6.4,  7.4,  6.2,  4.6,\n",
              "        9.6,  2.3,  2.5,  2.7])"
            ]
          },
          "metadata": {},
          "execution_count": 131
        }
      ]
    },
    {
      "cell_type": "code",
      "source": [
        "visc_dataset.y"
      ],
      "metadata": {
        "colab": {
          "base_uri": "https://localhost:8080/"
        },
        "id": "Zl-XeaIfERO5",
        "outputId": "e7f88a0d-1739-4e5e-a968-13afaa16b096"
      },
      "execution_count": null,
      "outputs": [
        {
          "output_type": "execute_result",
          "data": {
            "text/plain": [
              "array([ 1.5,  1.5,  1.2, -0.3, -0.2, -0.7,  3.5,  0.3,  3.3,  0.7,  3. ,\n",
              "        3. ,  3. ,  3.5,  6.5,  4.1,  4.2,  5.3,  6.4,  7.4,  6.2,  4.6,\n",
              "        9.6,  2.3,  2.5,  2.7])"
            ]
          },
          "metadata": {},
          "execution_count": 129
        }
      ]
    },
    {
      "cell_type": "code",
      "source": [
        "# Despues de 1 epochs\n",
        "_ = plt.scatter(-0.5*visc_dataset.y+1.5, model.predict(visc_dataset))\n",
        "plt.xlabel('True XlogP')\n",
        "plt.ylabel('Predicted XlogP')\n",
        "#plt.xlim(-1, 10)\n",
        "#plt.ylim(-1, 10)\n",
        "plt.plot([-2.5, 2],[-2.5, 2], color = 'black')\n",
        "plt.grid()"
      ],
      "metadata": {
        "colab": {
          "base_uri": "https://localhost:8080/",
          "height": 279
        },
        "id": "sTj0k7jHp2zv",
        "outputId": "5aa6da65-c111-45e2-f680-dcfce334c4e9"
      },
      "execution_count": null,
      "outputs": [
        {
          "output_type": "display_data",
          "data": {
            "text/plain": [
              "<Figure size 432x288 with 1 Axes>"
            ],
            "image/png": "[encoded data removed]"
          },
          "metadata": {
            "needs_background": "light"
          }
        }
      ]
    },
    {
      "cell_type": "code",
      "source": [
        "model.fit(disk_dataset, nb_epoch=50)"
      ],
      "metadata": {
        "colab": {
          "base_uri": "https://localhost:8080/"
        },
        "collapsed": true,
        "id": "PplvFsg9rAfu",
        "outputId": "e20a439c-cac6-4f0c-da1d-4ffec4c11bc5"
      },
      "execution_count": null,
      "outputs": [
        {
          "output_type": "stream",
          "name": "stderr",
          "text": [
            "/usr/local/lib/python3.7/dist-packages/tensorflow/python/framework/indexed_slices.py:446: UserWarning: Converting sparse IndexedSlices(IndexedSlices(indices=Tensor(\"gradient_tape/private__graph_conv_keras_model_2/graph_pool_5/Reshape_14:0\", shape=(336,), dtype=int32), values=Tensor(\"gradient_tape/private__graph_conv_keras_model_2/graph_pool_5/Reshape_13:0\", shape=(336, 64), dtype=float32), dense_shape=Tensor(\"gradient_tape/private__graph_conv_keras_model_2/graph_pool_5/Cast_4:0\", shape=(2,), dtype=int32))) to a dense Tensor of unknown shape. This may consume a large amount of memory.\n",
            "  \"shape. This may consume a large amount of memory.\" % value)\n",
            "/usr/local/lib/python3.7/dist-packages/tensorflow/python/framework/indexed_slices.py:446: UserWarning: Converting sparse IndexedSlices(IndexedSlices(indices=Tensor(\"gradient_tape/private__graph_conv_keras_model_2/graph_pool_5/Reshape_17:0\", shape=(1386,), dtype=int32), values=Tensor(\"gradient_tape/private__graph_conv_keras_model_2/graph_pool_5/Reshape_16:0\", shape=(1386, 64), dtype=float32), dense_shape=Tensor(\"gradient_tape/private__graph_conv_keras_model_2/graph_pool_5/Cast_5:0\", shape=(2,), dtype=int32))) to a dense Tensor of unknown shape. This may consume a large amount of memory.\n",
            "  \"shape. This may consume a large amount of memory.\" % value)\n",
            "/usr/local/lib/python3.7/dist-packages/tensorflow/python/framework/indexed_slices.py:446: UserWarning: Converting sparse IndexedSlices(IndexedSlices(indices=Tensor(\"gradient_tape/private__graph_conv_keras_model_2/graph_pool_5/Reshape_20:0\", shape=(594,), dtype=int32), values=Tensor(\"gradient_tape/private__graph_conv_keras_model_2/graph_pool_5/Reshape_19:0\", shape=(594, 64), dtype=float32), dense_shape=Tensor(\"gradient_tape/private__graph_conv_keras_model_2/graph_pool_5/Cast_6:0\", shape=(2,), dtype=int32))) to a dense Tensor of unknown shape. This may consume a large amount of memory.\n",
            "  \"shape. This may consume a large amount of memory.\" % value)\n",
            "/usr/local/lib/python3.7/dist-packages/tensorflow/python/framework/indexed_slices.py:446: UserWarning: Converting sparse IndexedSlices(IndexedSlices(indices=Tensor(\"gradient_tape/private__graph_conv_keras_model_2/graph_pool_5/Reshape_23:0\", shape=(80,), dtype=int32), values=Tensor(\"gradient_tape/private__graph_conv_keras_model_2/graph_pool_5/Reshape_22:0\", shape=(80, 64), dtype=float32), dense_shape=Tensor(\"gradient_tape/private__graph_conv_keras_model_2/graph_pool_5/Cast_7:0\", shape=(2,), dtype=int32))) to a dense Tensor of unknown shape. This may consume a large amount of memory.\n",
            "  \"shape. This may consume a large amount of memory.\" % value)\n",
            "/usr/local/lib/python3.7/dist-packages/tensorflow/python/framework/indexed_slices.py:446: UserWarning: Converting sparse IndexedSlices(IndexedSlices(indices=Tensor(\"gradient_tape/private__graph_conv_keras_model_2/graph_conv_5/Reshape_11:0\", shape=(336,), dtype=int32), values=Tensor(\"gradient_tape/private__graph_conv_keras_model_2/graph_conv_5/Reshape_10:0\", shape=(336, 64), dtype=float32), dense_shape=Tensor(\"gradient_tape/private__graph_conv_keras_model_2/graph_conv_5/Cast:0\", shape=(2,), dtype=int32))) to a dense Tensor of unknown shape. This may consume a large amount of memory.\n",
            "  \"shape. This may consume a large amount of memory.\" % value)\n",
            "/usr/local/lib/python3.7/dist-packages/tensorflow/python/framework/indexed_slices.py:446: UserWarning: Converting sparse IndexedSlices(IndexedSlices(indices=Tensor(\"gradient_tape/private__graph_conv_keras_model_2/graph_conv_5/Reshape_13:0\", shape=(1386,), dtype=int32), values=Tensor(\"gradient_tape/private__graph_conv_keras_model_2/graph_conv_5/Reshape_12:0\", shape=(1386, 64), dtype=float32), dense_shape=Tensor(\"gradient_tape/private__graph_conv_keras_model_2/graph_conv_5/Cast_1:0\", shape=(2,), dtype=int32))) to a dense Tensor of unknown shape. This may consume a large amount of memory.\n",
            "  \"shape. This may consume a large amount of memory.\" % value)\n",
            "/usr/local/lib/python3.7/dist-packages/tensorflow/python/framework/indexed_slices.py:446: UserWarning: Converting sparse IndexedSlices(IndexedSlices(indices=Tensor(\"gradient_tape/private__graph_conv_keras_model_2/graph_conv_5/Reshape_15:0\", shape=(594,), dtype=int32), values=Tensor(\"gradient_tape/private__graph_conv_keras_model_2/graph_conv_5/Reshape_14:0\", shape=(594, 64), dtype=float32), dense_shape=Tensor(\"gradient_tape/private__graph_conv_keras_model_2/graph_conv_5/Cast_2:0\", shape=(2,), dtype=int32))) to a dense Tensor of unknown shape. This may consume a large amount of memory.\n",
            "  \"shape. This may consume a large amount of memory.\" % value)\n",
            "/usr/local/lib/python3.7/dist-packages/tensorflow/python/framework/indexed_slices.py:446: UserWarning: Converting sparse IndexedSlices(IndexedSlices(indices=Tensor(\"gradient_tape/private__graph_conv_keras_model_2/graph_conv_5/Reshape_17:0\", shape=(80,), dtype=int32), values=Tensor(\"gradient_tape/private__graph_conv_keras_model_2/graph_conv_5/Reshape_16:0\", shape=(80, 64), dtype=float32), dense_shape=Tensor(\"gradient_tape/private__graph_conv_keras_model_2/graph_conv_5/Cast_3:0\", shape=(2,), dtype=int32))) to a dense Tensor of unknown shape. This may consume a large amount of memory.\n",
            "  \"shape. This may consume a large amount of memory.\" % value)\n",
            "/usr/local/lib/python3.7/dist-packages/tensorflow/python/framework/indexed_slices.py:446: UserWarning: Converting sparse IndexedSlices(IndexedSlices(indices=Tensor(\"gradient_tape/private__graph_conv_keras_model_2/graph_conv_5/Reshape_19:0\", shape=(0,), dtype=int32), values=Tensor(\"gradient_tape/private__graph_conv_keras_model_2/graph_conv_5/Reshape_18:0\", shape=(0, 64), dtype=float32), dense_shape=Tensor(\"gradient_tape/private__graph_conv_keras_model_2/graph_conv_5/Cast_4:0\", shape=(2,), dtype=int32))) to a dense Tensor of unknown shape. This may consume a large amount of memory.\n",
            "  \"shape. This may consume a large amount of memory.\" % value)\n",
            "/usr/local/lib/python3.7/dist-packages/tensorflow/python/framework/indexed_slices.py:446: UserWarning: Converting sparse IndexedSlices(IndexedSlices(indices=Tensor(\"gradient_tape/private__graph_conv_keras_model_2/graph_conv_5/Reshape_21:0\", shape=(0,), dtype=int32), values=Tensor(\"gradient_tape/private__graph_conv_keras_model_2/graph_conv_5/Reshape_20:0\", shape=(0, 64), dtype=float32), dense_shape=Tensor(\"gradient_tape/private__graph_conv_keras_model_2/graph_conv_5/Cast_5:0\", shape=(2,), dtype=int32))) to a dense Tensor of unknown shape. This may consume a large amount of memory.\n",
            "  \"shape. This may consume a large amount of memory.\" % value)\n",
            "/usr/local/lib/python3.7/dist-packages/tensorflow/python/framework/indexed_slices.py:446: UserWarning: Converting sparse IndexedSlices(IndexedSlices(indices=Tensor(\"gradient_tape/private__graph_conv_keras_model_2/graph_conv_5/Reshape_23:0\", shape=(0,), dtype=int32), values=Tensor(\"gradient_tape/private__graph_conv_keras_model_2/graph_conv_5/Reshape_22:0\", shape=(0, 64), dtype=float32), dense_shape=Tensor(\"gradient_tape/private__graph_conv_keras_model_2/graph_conv_5/Cast_6:0\", shape=(2,), dtype=int32))) to a dense Tensor of unknown shape. This may consume a large amount of memory.\n",
            "  \"shape. This may consume a large amount of memory.\" % value)\n",
            "/usr/local/lib/python3.7/dist-packages/tensorflow/python/framework/indexed_slices.py:446: UserWarning: Converting sparse IndexedSlices(IndexedSlices(indices=Tensor(\"gradient_tape/private__graph_conv_keras_model_2/graph_conv_5/Reshape_25:0\", shape=(0,), dtype=int32), values=Tensor(\"gradient_tape/private__graph_conv_keras_model_2/graph_conv_5/Reshape_24:0\", shape=(0, 64), dtype=float32), dense_shape=Tensor(\"gradient_tape/private__graph_conv_keras_model_2/graph_conv_5/Cast_7:0\", shape=(2,), dtype=int32))) to a dense Tensor of unknown shape. This may consume a large amount of memory.\n",
            "  \"shape. This may consume a large amount of memory.\" % value)\n",
            "/usr/local/lib/python3.7/dist-packages/tensorflow/python/framework/indexed_slices.py:446: UserWarning: Converting sparse IndexedSlices(IndexedSlices(indices=Tensor(\"gradient_tape/private__graph_conv_keras_model_2/graph_conv_5/Reshape_27:0\", shape=(0,), dtype=int32), values=Tensor(\"gradient_tape/private__graph_conv_keras_model_2/graph_conv_5/Reshape_26:0\", shape=(0, 64), dtype=float32), dense_shape=Tensor(\"gradient_tape/private__graph_conv_keras_model_2/graph_conv_5/Cast_8:0\", shape=(2,), dtype=int32))) to a dense Tensor of unknown shape. This may consume a large amount of memory.\n",
            "  \"shape. This may consume a large amount of memory.\" % value)\n",
            "/usr/local/lib/python3.7/dist-packages/tensorflow/python/framework/indexed_slices.py:446: UserWarning: Converting sparse IndexedSlices(IndexedSlices(indices=Tensor(\"gradient_tape/private__graph_conv_keras_model_2/graph_conv_5/Reshape_29:0\", shape=(0,), dtype=int32), values=Tensor(\"gradient_tape/private__graph_conv_keras_model_2/graph_conv_5/Reshape_28:0\", shape=(0, 64), dtype=float32), dense_shape=Tensor(\"gradient_tape/private__graph_conv_keras_model_2/graph_conv_5/Cast_9:0\", shape=(2,), dtype=int32))) to a dense Tensor of unknown shape. This may consume a large amount of memory.\n",
            "  \"shape. This may consume a large amount of memory.\" % value)\n",
            "/usr/local/lib/python3.7/dist-packages/tensorflow/python/framework/indexed_slices.py:446: UserWarning: Converting sparse IndexedSlices(IndexedSlices(indices=Tensor(\"gradient_tape/private__graph_conv_keras_model_2/graph_pool_4/Reshape_14:0\", shape=(336,), dtype=int32), values=Tensor(\"gradient_tape/private__graph_conv_keras_model_2/graph_pool_4/Reshape_13:0\", shape=(336, 64), dtype=float32), dense_shape=Tensor(\"gradient_tape/private__graph_conv_keras_model_2/graph_pool_4/Cast_4:0\", shape=(2,), dtype=int32))) to a dense Tensor of unknown shape. This may consume a large amount of memory.\n",
            "  \"shape. This may consume a large amount of memory.\" % value)\n",
            "/usr/local/lib/python3.7/dist-packages/tensorflow/python/framework/indexed_slices.py:446: UserWarning: Converting sparse IndexedSlices(IndexedSlices(indices=Tensor(\"gradient_tape/private__graph_conv_keras_model_2/graph_pool_4/Reshape_17:0\", shape=(1386,), dtype=int32), values=Tensor(\"gradient_tape/private__graph_conv_keras_model_2/graph_pool_4/Reshape_16:0\", shape=(1386, 64), dtype=float32), dense_shape=Tensor(\"gradient_tape/private__graph_conv_keras_model_2/graph_pool_4/Cast_5:0\", shape=(2,), dtype=int32))) to a dense Tensor of unknown shape. This may consume a large amount of memory.\n",
            "  \"shape. This may consume a large amount of memory.\" % value)\n",
            "/usr/local/lib/python3.7/dist-packages/tensorflow/python/framework/indexed_slices.py:446: UserWarning: Converting sparse IndexedSlices(IndexedSlices(indices=Tensor(\"gradient_tape/private__graph_conv_keras_model_2/graph_pool_4/Reshape_20:0\", shape=(594,), dtype=int32), values=Tensor(\"gradient_tape/private__graph_conv_keras_model_2/graph_pool_4/Reshape_19:0\", shape=(594, 64), dtype=float32), dense_shape=Tensor(\"gradient_tape/private__graph_conv_keras_model_2/graph_pool_4/Cast_6:0\", shape=(2,), dtype=int32))) to a dense Tensor of unknown shape. This may consume a large amount of memory.\n",
            "  \"shape. This may consume a large amount of memory.\" % value)\n",
            "/usr/local/lib/python3.7/dist-packages/tensorflow/python/framework/indexed_slices.py:446: UserWarning: Converting sparse IndexedSlices(IndexedSlices(indices=Tensor(\"gradient_tape/private__graph_conv_keras_model_2/graph_pool_4/Reshape_23:0\", shape=(80,), dtype=int32), values=Tensor(\"gradient_tape/private__graph_conv_keras_model_2/graph_pool_4/Reshape_22:0\", shape=(80, 64), dtype=float32), dense_shape=Tensor(\"gradient_tape/private__graph_conv_keras_model_2/graph_pool_4/Cast_7:0\", shape=(2,), dtype=int32))) to a dense Tensor of unknown shape. This may consume a large amount of memory.\n",
            "  \"shape. This may consume a large amount of memory.\" % value)\n",
            "/usr/local/lib/python3.7/dist-packages/tensorflow/python/framework/indexed_slices.py:446: UserWarning: Converting sparse IndexedSlices(IndexedSlices(indices=Tensor(\"gradient_tape/private__graph_conv_keras_model_2/graph_pool_5/Reshape_14:0\", shape=(None,), dtype=int32), values=Tensor(\"gradient_tape/private__graph_conv_keras_model_2/graph_pool_5/Reshape_13:0\", shape=(None, 64), dtype=float32), dense_shape=Tensor(\"gradient_tape/private__graph_conv_keras_model_2/graph_pool_5/Cast_4:0\", shape=(2,), dtype=int32))) to a dense Tensor of unknown shape. This may consume a large amount of memory.\n",
            "  \"shape. This may consume a large amount of memory.\" % value)\n",
            "/usr/local/lib/python3.7/dist-packages/tensorflow/python/framework/indexed_slices.py:446: UserWarning: Converting sparse IndexedSlices(IndexedSlices(indices=Tensor(\"gradient_tape/private__graph_conv_keras_model_2/graph_pool_5/Reshape_17:0\", shape=(None,), dtype=int32), values=Tensor(\"gradient_tape/private__graph_conv_keras_model_2/graph_pool_5/Reshape_16:0\", shape=(None, 64), dtype=float32), dense_shape=Tensor(\"gradient_tape/private__graph_conv_keras_model_2/graph_pool_5/Cast_5:0\", shape=(2,), dtype=int32))) to a dense Tensor of unknown shape. This may consume a large amount of memory.\n",
            "  \"shape. This may consume a large amount of memory.\" % value)\n",
            "/usr/local/lib/python3.7/dist-packages/tensorflow/python/framework/indexed_slices.py:446: UserWarning: Converting sparse IndexedSlices(IndexedSlices(indices=Tensor(\"gradient_tape/private__graph_conv_keras_model_2/graph_pool_5/Reshape_20:0\", shape=(None,), dtype=int32), values=Tensor(\"gradient_tape/private__graph_conv_keras_model_2/graph_pool_5/Reshape_19:0\", shape=(None, 64), dtype=float32), dense_shape=Tensor(\"gradient_tape/private__graph_conv_keras_model_2/graph_pool_5/Cast_6:0\", shape=(2,), dtype=int32))) to a dense Tensor of unknown shape. This may consume a large amount of memory.\n",
            "  \"shape. This may consume a large amount of memory.\" % value)\n",
            "/usr/local/lib/python3.7/dist-packages/tensorflow/python/framework/indexed_slices.py:446: UserWarning: Converting sparse IndexedSlices(IndexedSlices(indices=Tensor(\"gradient_tape/private__graph_conv_keras_model_2/graph_pool_5/Reshape_23:0\", shape=(None,), dtype=int32), values=Tensor(\"gradient_tape/private__graph_conv_keras_model_2/graph_pool_5/Reshape_22:0\", shape=(None, 64), dtype=float32), dense_shape=Tensor(\"gradient_tape/private__graph_conv_keras_model_2/graph_pool_5/Cast_7:0\", shape=(2,), dtype=int32))) to a dense Tensor of unknown shape. This may consume a large amount of memory.\n",
            "  \"shape. This may consume a large amount of memory.\" % value)\n",
            "/usr/local/lib/python3.7/dist-packages/tensorflow/python/framework/indexed_slices.py:446: UserWarning: Converting sparse IndexedSlices(IndexedSlices(indices=Tensor(\"gradient_tape/private__graph_conv_keras_model_2/graph_conv_5/Reshape_11:0\", shape=(None,), dtype=int32), values=Tensor(\"gradient_tape/private__graph_conv_keras_model_2/graph_conv_5/Reshape_10:0\", shape=(None, 64), dtype=float32), dense_shape=Tensor(\"gradient_tape/private__graph_conv_keras_model_2/graph_conv_5/Cast:0\", shape=(2,), dtype=int32))) to a dense Tensor of unknown shape. This may consume a large amount of memory.\n",
            "  \"shape. This may consume a large amount of memory.\" % value)\n",
            "/usr/local/lib/python3.7/dist-packages/tensorflow/python/framework/indexed_slices.py:446: UserWarning: Converting sparse IndexedSlices(IndexedSlices(indices=Tensor(\"gradient_tape/private__graph_conv_keras_model_2/graph_conv_5/Reshape_13:0\", shape=(None,), dtype=int32), values=Tensor(\"gradient_tape/private__graph_conv_keras_model_2/graph_conv_5/Reshape_12:0\", shape=(None, 64), dtype=float32), dense_shape=Tensor(\"gradient_tape/private__graph_conv_keras_model_2/graph_conv_5/Cast_1:0\", shape=(2,), dtype=int32))) to a dense Tensor of unknown shape. This may consume a large amount of memory.\n",
            "  \"shape. This may consume a large amount of memory.\" % value)\n",
            "/usr/local/lib/python3.7/dist-packages/tensorflow/python/framework/indexed_slices.py:446: UserWarning: Converting sparse IndexedSlices(IndexedSlices(indices=Tensor(\"gradient_tape/private__graph_conv_keras_model_2/graph_conv_5/Reshape_15:0\", shape=(None,), dtype=int32), values=Tensor(\"gradient_tape/private__graph_conv_keras_model_2/graph_conv_5/Reshape_14:0\", shape=(None, 64), dtype=float32), dense_shape=Tensor(\"gradient_tape/private__graph_conv_keras_model_2/graph_conv_5/Cast_2:0\", shape=(2,), dtype=int32))) to a dense Tensor of unknown shape. This may consume a large amount of memory.\n",
            "  \"shape. This may consume a large amount of memory.\" % value)\n",
            "/usr/local/lib/python3.7/dist-packages/tensorflow/python/framework/indexed_slices.py:446: UserWarning: Converting sparse IndexedSlices(IndexedSlices(indices=Tensor(\"gradient_tape/private__graph_conv_keras_model_2/graph_conv_5/Reshape_17:0\", shape=(None,), dtype=int32), values=Tensor(\"gradient_tape/private__graph_conv_keras_model_2/graph_conv_5/Reshape_16:0\", shape=(None, 64), dtype=float32), dense_shape=Tensor(\"gradient_tape/private__graph_conv_keras_model_2/graph_conv_5/Cast_3:0\", shape=(2,), dtype=int32))) to a dense Tensor of unknown shape. This may consume a large amount of memory.\n",
            "  \"shape. This may consume a large amount of memory.\" % value)\n",
            "/usr/local/lib/python3.7/dist-packages/tensorflow/python/framework/indexed_slices.py:446: UserWarning: Converting sparse IndexedSlices(IndexedSlices(indices=Tensor(\"gradient_tape/private__graph_conv_keras_model_2/graph_pool_4/Reshape_14:0\", shape=(None,), dtype=int32), values=Tensor(\"gradient_tape/private__graph_conv_keras_model_2/graph_pool_4/Reshape_13:0\", shape=(None, 64), dtype=float32), dense_shape=Tensor(\"gradient_tape/private__graph_conv_keras_model_2/graph_pool_4/Cast_4:0\", shape=(2,), dtype=int32))) to a dense Tensor of unknown shape. This may consume a large amount of memory.\n",
            "  \"shape. This may consume a large amount of memory.\" % value)\n",
            "/usr/local/lib/python3.7/dist-packages/tensorflow/python/framework/indexed_slices.py:446: UserWarning: Converting sparse IndexedSlices(IndexedSlices(indices=Tensor(\"gradient_tape/private__graph_conv_keras_model_2/graph_pool_4/Reshape_17:0\", shape=(None,), dtype=int32), values=Tensor(\"gradient_tape/private__graph_conv_keras_model_2/graph_pool_4/Reshape_16:0\", shape=(None, 64), dtype=float32), dense_shape=Tensor(\"gradient_tape/private__graph_conv_keras_model_2/graph_pool_4/Cast_5:0\", shape=(2,), dtype=int32))) to a dense Tensor of unknown shape. This may consume a large amount of memory.\n",
            "  \"shape. This may consume a large amount of memory.\" % value)\n",
            "/usr/local/lib/python3.7/dist-packages/tensorflow/python/framework/indexed_slices.py:446: UserWarning: Converting sparse IndexedSlices(IndexedSlices(indices=Tensor(\"gradient_tape/private__graph_conv_keras_model_2/graph_pool_4/Reshape_20:0\", shape=(None,), dtype=int32), values=Tensor(\"gradient_tape/private__graph_conv_keras_model_2/graph_pool_4/Reshape_19:0\", shape=(None, 64), dtype=float32), dense_shape=Tensor(\"gradient_tape/private__graph_conv_keras_model_2/graph_pool_4/Cast_6:0\", shape=(2,), dtype=int32))) to a dense Tensor of unknown shape. This may consume a large amount of memory.\n",
            "  \"shape. This may consume a large amount of memory.\" % value)\n",
            "/usr/local/lib/python3.7/dist-packages/tensorflow/python/framework/indexed_slices.py:446: UserWarning: Converting sparse IndexedSlices(IndexedSlices(indices=Tensor(\"gradient_tape/private__graph_conv_keras_model_2/graph_pool_4/Reshape_23:0\", shape=(None,), dtype=int32), values=Tensor(\"gradient_tape/private__graph_conv_keras_model_2/graph_pool_4/Reshape_22:0\", shape=(None, 64), dtype=float32), dense_shape=Tensor(\"gradient_tape/private__graph_conv_keras_model_2/graph_pool_4/Cast_7:0\", shape=(2,), dtype=int32))) to a dense Tensor of unknown shape. This may consume a large amount of memory.\n",
            "  \"shape. This may consume a large amount of memory.\" % value)\n"
          ]
        },
        {
          "output_type": "stream",
          "name": "stdout",
          "text": [
            "WARNING:tensorflow:5 out of the last 102 calls to <function KerasModel._create_gradient_fn.<locals>.apply_gradient_for_batch at 0x7f03429ff050> triggered tf.function retracing. Tracing is expensive and the excessive number of tracings could be due to (1) creating @tf.function repeatedly in a loop, (2) passing tensors with different shapes, (3) passing Python objects instead of tensors. For (1), please define your @tf.function outside of the loop. For (2), @tf.function has experimental_relax_shapes=True option that relaxes argument shapes that can avoid unnecessary retracing. For (3), please refer to https://www.tensorflow.org/guide/function#controlling_retracing and https://www.tensorflow.org/api_docs/python/tf/function for  more details.\n"
          ]
        },
        {
          "output_type": "execute_result",
          "data": {
            "text/plain": [
              "0.16402814865112306"
            ]
          },
          "metadata": {},
          "execution_count": 106
        }
      ]
    },
    {
      "cell_type": "code",
      "source": [
        "# Despues de 51 epochs\n",
        "_ = plt.scatter(disk_dataset.y, model.predict(disk_dataset))\n",
        "plt.xlabel('True XlogP')\n",
        "plt.ylabel('Predicted XlogP')\n",
        "plt.xlim(-1, 10)\n",
        "plt.ylim(-1, 10)\n",
        "plt.plot([-1, 10],[-1, 10], color = 'black')\n",
        "plt.grid()"
      ],
      "metadata": {
        "colab": {
          "base_uri": "https://localhost:8080/",
          "height": 283
        },
        "id": "3ALRsozVqWKO",
        "outputId": "7e98b559-5235-4aa7-c714-c5453fbaf3d7"
      },
      "execution_count": null,
      "outputs": [
        {
          "output_type": "display_data",
          "data": {
            "text/plain": [
              "<Figure size 432x288 with 1 Axes>"
            ],
            "image/png": "[encoded data removed]"
          },
          "metadata": {
            "needs_background": "light"
          }
        }
      ]
    },
    {
      "cell_type": "code",
      "source": [
        "model.fit(disk_dataset, nb_epoch=49)"
      ],
      "metadata": {
        "colab": {
          "base_uri": "https://localhost:8080/"
        },
        "id": "8738-hj7rooB",
        "outputId": "f0aba841-dbff-48cf-b6b0-862bfffe7d28"
      },
      "execution_count": null,
      "outputs": [
        {
          "output_type": "execute_result",
          "data": {
            "text/plain": [
              "0.0012454612522709127"
            ]
          },
          "metadata": {},
          "execution_count": 109
        }
      ]
    },
    {
      "cell_type": "code",
      "source": [
        "# Despues de 100 epochs\n",
        "_ = plt.scatter(disk_dataset.y, model.predict(disk_dataset))\n",
        "plt.xlabel('True XlogP')\n",
        "plt.ylabel('Predicted XlogP')\n",
        "plt.xlim(-1, 10)\n",
        "plt.ylim(-1, 10)\n",
        "plt.plot([-1, 10],[-1, 10], color = 'black')\n",
        "plt.grid()"
      ],
      "metadata": {
        "colab": {
          "base_uri": "https://localhost:8080/",
          "height": 283
        },
        "id": "DMX6D0xepW57",
        "outputId": "3d4dce68-6e76-4bc4-bb2b-d8cd576aadc8"
      },
      "execution_count": null,
      "outputs": [
        {
          "output_type": "display_data",
          "data": {
            "text/plain": [
              "<Figure size 432x288 with 1 Axes>"
            ],
            "image/png": "[encoded data removed]"
          },
          "metadata": {
            "needs_background": "light"
          }
        }
      ]
    },
    {
      "cell_type": "code",
      "source": [
        "model.fit(disk_dataset, nb_epoch=200)"
      ],
      "metadata": {
        "colab": {
          "base_uri": "https://localhost:8080/"
        },
        "id": "QCrdIxnGsEpK",
        "outputId": "6bead41a-c919-4eac-f541-0f412ef07538"
      },
      "execution_count": null,
      "outputs": [
        {
          "output_type": "execute_result",
          "data": {
            "text/plain": [
              "0.0006295995414257049"
            ]
          },
          "metadata": {},
          "execution_count": 111
        }
      ]
    },
    {
      "cell_type": "code",
      "source": [
        "# Despues de 300 epochs\n",
        "_ = plt.scatter(disk_dataset.y, model.predict(disk_dataset))\n",
        "plt.xlabel('True XlogP')\n",
        "plt.ylabel('Predicted XlogP')\n",
        "plt.xlim(-1, 10)\n",
        "plt.ylim(-1, 10)\n",
        "plt.plot([-1, 10],[-1, 10], color = 'black')\n",
        "plt.grid()"
      ],
      "metadata": {
        "colab": {
          "base_uri": "https://localhost:8080/",
          "height": 283
        },
        "id": "j-X7tFJLsHe_",
        "outputId": "23fda503-21ed-4f3d-e443-9be0af87364d"
      },
      "execution_count": null,
      "outputs": [
        {
          "output_type": "display_data",
          "data": {
            "text/plain": [
              "<Figure size 432x288 with 1 Axes>"
            ],
            "image/png": "[encoded data removed]"
          },
          "metadata": {
            "needs_background": "light"
          }
        }
      ]
    },
    {
      "cell_type": "code",
      "source": [
        "model.fit(disk_dataset, nb_epoch=50)\n",
        "metric = dc.metrics.Metric(dc.metrics.pearson_r2_score)"
      ],
      "metadata": {
        "id": "TgDN9eB2n6ts"
      },
      "execution_count": null,
      "outputs": []
    },
    {
      "cell_type": "code",
      "source": [
        "help(comps_features[0])"
      ],
      "metadata": {
        "colab": {
          "base_uri": "https://localhost:8080/"
        },
        "id": "HGNW7YWBjj-B",
        "outputId": "8b2c591c-af6c-4430-b21d-97255592b96c",
        "collapsed": true
      },
      "execution_count": null,
      "outputs": [
        {
          "output_type": "stream",
          "name": "stdout",
          "text": [
            "Help on ConvMol in module deepchem.feat.mol_graphs object:\n",
            "\n",
            "class ConvMol(builtins.object)\n",
            " |  ConvMol(atom_features, adj_list, max_deg=10, min_deg=0)\n",
            " |  \n",
            " |  Holds information about a molecules.\n",
            " |  \n",
            " |  Resorts order of atoms internally to be in order of increasing degree. Note\n",
            " |  that only heavy atoms (hydrogens excluded) are considered here.\n",
            " |  \n",
            " |  Methods defined here:\n",
            " |  \n",
            " |  __init__(self, atom_features, adj_list, max_deg=10, min_deg=0)\n",
            " |      Parameters\n",
            " |      ----------\n",
            " |      atom_features: np.ndarray\n",
            " |        Has shape (n_atoms, n_feat)\n",
            " |      adj_list: list\n",
            " |        List of length n_atoms, with neighor indices of each atom.\n",
            " |      max_deg: int, optional\n",
            " |        Maximum degree of any atom.\n",
            " |      min_deg: int, optional\n",
            " |        Minimum degree of any atom.\n",
            " |  \n",
            " |  get_adjacency_list(self)\n",
            " |      Returns a canonicalized adjacency list.\n",
            " |      \n",
            " |      Canonicalized means that the atoms are re-ordered by degree.\n",
            " |      \n",
            " |      Returns\n",
            " |      -------\n",
            " |      list\n",
            " |        Canonicalized form of adjacency list.\n",
            " |  \n",
            " |  get_atom_features(self)\n",
            " |      Returns canonicalized version of atom features.\n",
            " |      \n",
            " |      Features are sorted by atom degree, with original order maintained when\n",
            " |      degrees are same.\n",
            " |  \n",
            " |  get_atoms_with_deg(self, deg)\n",
            " |      Retrieves atom_features with the specific degree\n",
            " |  \n",
            " |  get_deg_adjacency_lists(self)\n",
            " |      Returns adjacency lists grouped by atom degree.\n",
            " |      \n",
            " |      Returns\n",
            " |      -------\n",
            " |      list\n",
            " |        Has length (max_deg+1-min_deg). The element at position deg is\n",
            " |        itself a list of the neighbor-lists for atoms with degree deg.\n",
            " |  \n",
            " |  get_deg_slice(self)\n",
            " |      Returns degree-slice tensor.\n",
            " |      \n",
            " |      The deg_slice tensor allows indexing into a flattened version of the\n",
            " |      molecule's atoms. Assume atoms are sorted in order of degree. Then\n",
            " |      deg_slice[deg][0] is the starting position for atoms of degree deg in\n",
            " |      flattened list, and deg_slice[deg][1] is the number of atoms with degree deg.\n",
            " |      \n",
            " |      Note deg_slice has shape (max_deg+1-min_deg, 2).\n",
            " |      \n",
            " |      Returns\n",
            " |      -------\n",
            " |      deg_slice: np.ndarray\n",
            " |        Shape (max_deg+1-min_deg, 2)\n",
            " |  \n",
            " |  get_num_atoms(self)\n",
            " |  \n",
            " |  get_num_atoms_with_deg(self, deg)\n",
            " |      Returns the number of atoms with the given degree\n",
            " |  \n",
            " |  ----------------------------------------------------------------------\n",
            " |  Static methods defined here:\n",
            " |  \n",
            " |  agglomerate_mols(mols, max_deg=10, min_deg=0)\n",
            " |      Concatenates list of ConvMol's into one mol object that can be used to feed\n",
            " |      into tensorflow placeholders. The indexing of the molecules are preseved during the\n",
            " |      combination, but the indexing of the atoms are greatly changed.\n",
            " |      \n",
            " |      Parameters\n",
            " |      ----\n",
            " |      mols: list\n",
            " |        ConvMol objects to be combined into one molecule.\n",
            " |  \n",
            " |  get_null_mol(n_feat, max_deg=10, min_deg=0)\n",
            " |      Constructs a null molecules\n",
            " |      \n",
            " |      Get one molecule with one atom of each degree, with all the atoms\n",
            " |      connected to themselves, and containing n_feat features.\n",
            " |      \n",
            " |      Parameters\n",
            " |      ----------\n",
            " |      n_feat : int\n",
            " |          number of features for the nodes in the null molecule\n",
            " |  \n",
            " |  ----------------------------------------------------------------------\n",
            " |  Data descriptors defined here:\n",
            " |  \n",
            " |  __dict__\n",
            " |      dictionary for instance variables (if defined)\n",
            " |  \n",
            " |  __weakref__\n",
            " |      list of weak references to the object (if defined)\n",
            "\n"
          ]
        }
      ]
    }
  ]
}